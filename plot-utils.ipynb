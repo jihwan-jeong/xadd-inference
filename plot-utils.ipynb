{
 "cells": [
  {
   "cell_type": "code",
   "execution_count": null,
   "metadata": {},
   "outputs": [],
   "source": [
    "import os\n",
    "import pandas as pd\n",
    "# from mpl_toolkits import mplot3d\n",
    "from mpl_toolkits.mplot3d import axes3d, Axes3D\n",
    "# import PyQt5\n",
    "import matplotlib.pyplot as plt\n",
    "from matplotlib import cm\n",
    "import numpy as np\n",
    "from scipy.interpolate import griddata\n",
    "import matplotlib.ticker as ticker\n",
    "from pathlib import Path\n",
    "import json"
   ]
  },
  {
   "cell_type": "code",
   "execution_count": null,
   "metadata": {},
   "outputs": [],
   "source": [
    "%matplotlib qt\n",
    "# %matplotlib inline"
   ]
  },
  {
   "cell_type": "markdown",
   "metadata": {
    "heading_collapsed": true
   },
   "source": [
    "### infeasibility plots"
   ]
  },
  {
   "cell_type": "code",
   "execution_count": null,
   "metadata": {
    "hidden": true
   },
   "outputs": [],
   "source": [
    "path = Path('../Markov-Decision-Process-Value-Iteration-Policy-Iteration-Visualization/results/')\n",
    "env = 'isFeasible'  # traffic, reservoir, bandwidth\n",
    "\n",
    "lst = [p for p in path.iterdir() if env in str(p)]\n",
    "lst[:5]"
   ]
  },
  {
   "cell_type": "code",
   "execution_count": null,
   "metadata": {
    "hidden": true
   },
   "outputs": [],
   "source": [
    "def load_specific(string):\n",
    "    for file in path.iterdir():\n",
    "        if string in str(file):\n",
    "            print(file)\n",
    "            with open(file, 'r') as f:\n",
    "                return f.read()"
   ]
  },
  {
   "cell_type": "code",
   "execution_count": null,
   "metadata": {
    "hidden": true
   },
   "outputs": [],
   "source": [
    "def getValue(with_str):\n",
    "    return np.array(json.loads(load_specific(with_str)))[:, :]"
   ]
  },
  {
   "cell_type": "code",
   "execution_count": null,
   "metadata": {
    "hidden": true
   },
   "outputs": [],
   "source": [
    "def plot3dS(value, title=''):\n",
    "    discretization = value.shape[0]\n",
    "    fig = plt.figure()\n",
    "    ax = fig.gca(projection='3d')\n",
    "\n",
    "    X = np.linspace(xmin, xmax, discretization)\n",
    "    Y = np.linspace(ymin, ymax, discretization)\n",
    "\n",
    "    X, Y = np.meshgrid(X, Y)\n",
    "    Z = value[:, :]\n",
    "    surf = ax.plot_surface(X, Y, Z, cmap=cm.coolwarm, linewidth=0, antialiased=False)\n",
    "    plt.title(title)\n",
    "    plt.xlabel('L2')\n",
    "    plt.ylabel('L1')\n",
    "\n",
    "# x and y axis are inverted.\n",
    "# l2 is the first index now. xmin, xmax correspond to l2 and so does plt.xlabel.\n",
    "# value.shape = (300, 300)\n",
    "# first dim becomes y, while second becomes x."
   ]
  },
  {
   "cell_type": "code",
   "execution_count": null,
   "metadata": {
    "hidden": true
   },
   "outputs": [],
   "source": [
    "# xmin, xmax = 0, 300\n",
    "# ymin, ymax = 0, 300"
   ]
  },
  {
   "cell_type": "code",
   "execution_count": null,
   "metadata": {
    "hidden": true
   },
   "outputs": [],
   "source": [
    "xmin, xmax = 700, 1500\n",
    "ymin, ymax = 1000, 3000"
   ]
  },
  {
   "cell_type": "code",
   "execution_count": null,
   "metadata": {
    "hidden": true
   },
   "outputs": [],
   "source": [
    "string = 'a_0_r_0'\n",
    "v = getValue(string)\n",
    "plot3dS(v, f'isFeasible_{string}')"
   ]
  },
  {
   "cell_type": "code",
   "execution_count": null,
   "metadata": {
    "hidden": true
   },
   "outputs": [],
   "source": [
    "string = 'a_0_r_1'\n",
    "v = getValue(string)\n",
    "plot3dS(v, f'isFeasible_{string}')"
   ]
  },
  {
   "cell_type": "code",
   "execution_count": null,
   "metadata": {
    "hidden": true
   },
   "outputs": [],
   "source": [
    "string = 'a_1_r_0'\n",
    "v = getValue(string)\n",
    "plot3dS(v, f'isFeasible_{string}')"
   ]
  },
  {
   "cell_type": "code",
   "execution_count": null,
   "metadata": {
    "hidden": true
   },
   "outputs": [],
   "source": [
    "string = 'a_1_r_1'\n",
    "v = getValue(string)\n",
    "plot3dS(v, f'isFeasible_{string}')"
   ]
  },
  {
   "cell_type": "markdown",
   "metadata": {},
   "source": [
    "## approximate solution - value plots"
   ]
  },
  {
   "cell_type": "code",
   "execution_count": null,
   "metadata": {},
   "outputs": [],
   "source": [
    "path = Path('../Markov-Decision-Process-Value-Iteration-Policy-Iteration-Visualization/results/')\n",
    "# env = 'traffic'\n",
    "# env = 'reservoir'\n",
    "env = 'bandwidth'\n",
    "\n",
    "lst = [p for p in path.iterdir() if env in str(p)]\n",
    "lst[:5]"
   ]
  },
  {
   "cell_type": "code",
   "execution_count": null,
   "metadata": {},
   "outputs": [],
   "source": [
    "def load_specific(string):\n",
    "    for file in path.iterdir():\n",
    "        if string in str(file):\n",
    "            print(file)\n",
    "            with open(file, 'r') as f:\n",
    "                return f.read()"
   ]
  },
  {
   "cell_type": "markdown",
   "metadata": {
    "heading_collapsed": true
   },
   "source": [
    "### old plot3dS - do not run"
   ]
  },
  {
   "cell_type": "code",
   "execution_count": null,
   "metadata": {
    "hidden": true
   },
   "outputs": [],
   "source": [
    "# THIS IS OLD plot3dS.\n",
    "# NEW ONE UPDATED DOES NOT USE np.meshgrid BUT USES np.mgrid."
   ]
  },
  {
   "cell_type": "code",
   "execution_count": null,
   "metadata": {
    "hidden": true
   },
   "outputs": [],
   "source": [
    "def plot3dS(value, title='', x=None, y=None, Z=None, ax=None, plot_limits=None, cmap=cm.coolwarm, alpha=1, \n",
    "            cbar_tit='', return_v=False):\n",
    "    discretization = value.shape[0]\n",
    "    MIN, MAX = 0, 1\n",
    "    \n",
    "    if not ax:\n",
    "        fig = plt.figure()\n",
    "        ax = fig.gca(projection='3d')\n",
    "\n",
    "    X = np.linspace(*limits[x], discretization)\n",
    "    Y = np.linspace(*limits[y], discretization)\n",
    "    \n",
    "    if plot_limits:\n",
    "      x_min_idx = np.argmax(X > plot_limits[x][MIN])\n",
    "      x_max_idx = np.argmin(X < plot_limits[x][MAX])\n",
    "      y_min_idx = np.argmax(Y > plot_limits[y][MIN])\n",
    "      y_max_idx = np.argmin(Y < plot_limits[y][MAX])\n",
    "      X = X[x_min_idx: x_max_idx]\n",
    "      Y = Y[y_min_idx: y_max_idx]\n",
    "      Z = Z[y_min_idx: y_max_idx, x_min_idx: x_max_idx]\n",
    "\n",
    "    X, Y = np.meshgrid(X, Y)\n",
    "    surf = ax.plot_surface(X, Y, Z, cmap=cmap, linewidth=0, antialiased=False, alpha=alpha)\n",
    "    plt.title(title)\n",
    "    plt.xlabel(x)\n",
    "    plt.ylabel(y)\n",
    "    \n",
    "    if cbar_tit:\n",
    "      m = cm.ScalarMappable(cmap=cmap)\n",
    "      m.set_array(Z)\n",
    "      cbar = plt.colorbar(m, shrink=0.6)\n",
    "      cbar.ax.set_ylabel(cbar_tit, fontsize=16)\n",
    "      cbar.ax.tick_params(labelsize=14)\n",
    "    \n",
    "    if return_v:\n",
    "      return ax, (X, Y, Z)\n",
    "    return ax\n",
    "\n",
    "# x and y axis are inverted.\n",
    "# l2 is the first index now. xmin, xmax correspond to l2 and so does plt.xlabel.\n",
    "# value.shape = (300, 300)\n",
    "# first dim becomes y, while second becomes x."
   ]
  },
  {
   "cell_type": "markdown",
   "metadata": {},
   "source": [
    "### reservoir"
   ]
  },
  {
   "cell_type": "code",
   "execution_count": null,
   "metadata": {},
   "outputs": [],
   "source": [
    "path = Path('../Markov-Decision-Process-Value-Iteration-Policy-Iteration-Visualization/results/')"
   ]
  },
  {
   "cell_type": "code",
   "execution_count": null,
   "metadata": {},
   "outputs": [],
   "source": [
    "limits = {'L1': [1000, 3000], 'L2': [700, 1500]}\n",
    "plot_limits = {'L1': [1100, 2200], 'L2': [760, 1300]} # plot limits"
   ]
  },
  {
   "cell_type": "code",
   "execution_count": null,
   "metadata": {},
   "outputs": [],
   "source": [
    "def getReservoirValue(with_str, rain=0):\n",
    "    return np.array(json.loads(load_specific(with_str)))[:, :, rain]"
   ]
  },
  {
   "cell_type": "code",
   "execution_count": null,
   "metadata": {},
   "outputs": [],
   "source": [
    "def plot3dS(value, title='', x=None, y=None, Z=None, ax=None, cmap=cm.coolwarm, alpha=1, cbar_tit='', \n",
    "            return_v=False):\n",
    "    discretization = value.shape[0]\n",
    "    MIN, MAX = 0, 1\n",
    "    \n",
    "    if not ax:\n",
    "        fig = plt.figure()\n",
    "        ax = fig.gca(projection='3d')\n",
    "\n",
    "    X, Y = np.mgrid[limits[x][0]: limits[x][1]: complex(0, discretization), \n",
    "                    limits[y][0]: limits[y][1]: complex(0, discretization)]\n",
    "    surf = ax.plot_surface(X, Y, Z, cmap=cmap, linewidth=0, antialiased=False, alpha=alpha)\n",
    "\n",
    "    plt.title(title)\n",
    "    plt.xlabel(x)\n",
    "    plt.ylabel(y)\n",
    "    \n",
    "    if cbar_tit:\n",
    "      m = cm.ScalarMappable(cmap=cmap)\n",
    "      m.set_array(Z)\n",
    "      cbar = plt.colorbar(m, shrink=0.6)\n",
    "      cbar.ax.set_ylabel(cbar_tit, fontsize=16)\n",
    "      cbar.ax.tick_params(labelsize=14)\n",
    "    \n",
    "    if return_v:\n",
    "      return ax, (X, Y, Z)\n",
    "    return ax"
   ]
  },
  {
   "cell_type": "code",
   "execution_count": null,
   "metadata": {},
   "outputs": [],
   "source": [
    "# plot_limits FUNCTIONALITY WAS NOT ADDED AGAIN WHEN plot3dS WAS UPDATED.\n",
    "plot_limits = {'L1': [1100, 3000], 'L2': [1100, 1500]} # plot limits"
   ]
  },
  {
   "cell_type": "code",
   "execution_count": null,
   "metadata": {},
   "outputs": [],
   "source": [
    "string = '_150'\n",
    "v = getReservoirValue(string, rain=0)\n",
    "plot3dS(v, string, x='L1', y='L2', Z=v)"
   ]
  },
  {
   "cell_type": "code",
   "execution_count": null,
   "metadata": {},
   "outputs": [],
   "source": []
  },
  {
   "cell_type": "code",
   "execution_count": null,
   "metadata": {},
   "outputs": [],
   "source": [
    "# PLOT ITERATION WISE VALUE PLOTS FOR DEBUGGING POINTY SURFACE IN SYMBOLIC PLOTS.\n",
    "filter_str = '_i_'\n",
    "for p in path.iterdir():\n",
    "  if filter_str in str(p):\n",
    "    v = getReservoirValue(str(p), rain=0)\n",
    "    plot3dS(v, str(p)[-6:], x='L2', y='L1', Z=v)"
   ]
  },
  {
   "cell_type": "markdown",
   "metadata": {},
   "source": [
    "### traffic"
   ]
  },
  {
   "cell_type": "code",
   "execution_count": null,
   "metadata": {},
   "outputs": [],
   "source": [
    "path = Path('../Markov-Decision-Process-Value-Iteration-Policy-Iteration-Visualization/results/')"
   ]
  },
  {
   "cell_type": "code",
   "execution_count": null,
   "metadata": {},
   "outputs": [],
   "source": [
    "def getJson(with_str):\n",
    "    return json.loads(load_specific(with_str))"
   ]
  },
  {
   "cell_type": "code",
   "execution_count": null,
   "metadata": {},
   "outputs": [],
   "source": [
    "def getTrafficValue(with_str):\n",
    "    return np.array(getJson(with_str))"
   ]
  },
  {
   "cell_type": "code",
   "execution_count": null,
   "metadata": {},
   "outputs": [],
   "source": [
    "limits = {'q1': [0, 100], 'q2': [0, 120], 'q3': [0, 100], 'q4': [0, 100], 'q5': [0, 100]}"
   ]
  },
  {
   "cell_type": "code",
   "execution_count": null,
   "metadata": {},
   "outputs": [],
   "source": [
    "def plot3dS(value, title='', x=None, y=None, Z=None, ax=None, cmap=cm.coolwarm, alpha=1, cbar_tit='', \n",
    "            return_v=False):\n",
    "    discretization = value.shape[0]\n",
    "    MIN, MAX = 0, 1\n",
    "    \n",
    "    if not ax:\n",
    "        fig = plt.figure()\n",
    "        ax = fig.gca(projection='3d')\n",
    "\n",
    "    X, Y = np.mgrid[limits[x][0]: limits[x][1]: complex(0, discretization), \n",
    "                    limits[y][0]: limits[y][1]: complex(0, discretization)]\n",
    "    surf = ax.plot_surface(X, Y, Z, cmap=cmap, linewidth=0, antialiased=False, alpha=alpha)\n",
    "\n",
    "    plt.title(title)\n",
    "    plt.xlabel(x)\n",
    "    plt.ylabel(y)\n",
    "    \n",
    "    if cbar_tit:\n",
    "      m = cm.ScalarMappable(cmap=cmap)\n",
    "      m.set_array(Z)\n",
    "      cbar = plt.colorbar(m, shrink=0.6)\n",
    "      cbar.ax.set_ylabel(cbar_tit, fontsize=16)\n",
    "      cbar.ax.tick_params(labelsize=14)\n",
    "    \n",
    "    if return_v:\n",
    "      return ax, (X, Y, Z)\n",
    "    return ax"
   ]
  },
  {
   "cell_type": "code",
   "execution_count": null,
   "metadata": {},
   "outputs": [],
   "source": []
  },
  {
   "cell_type": "code",
   "execution_count": null,
   "metadata": {},
   "outputs": [],
   "source": [
    "string = 'traffic'\n",
    "v = getTrafficValue('traffic_d')\n",
    "plot3dS(v, string, x='q2', y='q3', Z=v[-1, :, :, -1, -1])"
   ]
  },
  {
   "cell_type": "code",
   "execution_count": null,
   "metadata": {},
   "outputs": [],
   "source": [
    "string = 'traffic_d_6'\n",
    "v = getTrafficValue(string)\n",
    "mid = v.shape[0] // 2\n",
    "plot3dS(v, string, x='q1', y='q4', Z=v[:, mid, mid, :, mid])"
   ]
  },
  {
   "cell_type": "code",
   "execution_count": null,
   "metadata": {},
   "outputs": [],
   "source": [
    "string = 'traffic_d_12'\n",
    "v = getTrafficValue(string)\n",
    "mid = v.shape[0] // 2\n",
    "plot3dS(v, string, x='q1', y='q4', Z=v[:, mid, mid, :, mid])"
   ]
  },
  {
   "cell_type": "code",
   "execution_count": null,
   "metadata": {},
   "outputs": [],
   "source": []
  },
  {
   "cell_type": "code",
   "execution_count": null,
   "metadata": {},
   "outputs": [],
   "source": [
    "string = 'traffic_d_14'\n",
    "v = getTrafficValue(string)\n",
    "mid = v.shape[0] // 2\n",
    "plot3dS(v, string, x='q1', y='q4', Z=v[:, mid, mid, :, mid])"
   ]
  },
  {
   "cell_type": "markdown",
   "metadata": {},
   "source": [
    "### bandwidth"
   ]
  },
  {
   "cell_type": "code",
   "execution_count": null,
   "metadata": {},
   "outputs": [],
   "source": [
    "def getJson(with_str):\n",
    "    return json.loads(load_specific(with_str))"
   ]
  },
  {
   "cell_type": "code",
   "execution_count": null,
   "metadata": {},
   "outputs": [],
   "source": [
    "def getBandwidthValue(with_str):\n",
    "    return np.array(getJson(with_str))[:, 0]"
   ]
  },
  {
   "cell_type": "code",
   "execution_count": null,
   "metadata": {},
   "outputs": [],
   "source": [
    "def plot2dS(value, title='', x=None, y=None, ax=None, plot_limits=None, label=None):\n",
    "    MIN, MAX = 0, 1\n",
    "    discretization = value.shape[0]\n",
    "    \n",
    "    if not ax:\n",
    "        fig = plt.figure()\n",
    "        ax = fig.gca()\n",
    "\n",
    "    X = np.linspace(*limits[x], discretization)\n",
    "    \n",
    "    if plot_limits:\n",
    "      x_min_idx = np.argmax(X > plot_limits[x][MIN])\n",
    "      x_max_idx = np.argmin(X < plot_limits[x][MAX])\n",
    "      X = X[x_min_idx: x_max_idx]\n",
    "      y = y[x_min_idx: x_max_idx]\n",
    "    \n",
    "    ax.plot(X, y, '-o', markevery=100, linewidth=3, label=label)\n",
    "    ax.set_xlim(*plot_limits[x])\n",
    "    plt.title(title)\n",
    "    \n",
    "    return ax"
   ]
  },
  {
   "cell_type": "code",
   "execution_count": null,
   "metadata": {},
   "outputs": [],
   "source": []
  },
  {
   "cell_type": "code",
   "execution_count": null,
   "metadata": {},
   "outputs": [],
   "source": [
    "path = Path('../Markov-Decision-Process-Value-Iteration-Policy-Iteration-Visualization/results/')\n",
    "limits = {'d': [1200, 20000]}\n",
    "plot_limits = {'d': [1200, 10000]}\n",
    "string = 'bandwidth_d_1000'\n",
    "v = getBandwidthValue(string)\n",
    "plot2dS(v, string, x='d', y=v, plot_limits=plot_limits)"
   ]
  },
  {
   "cell_type": "markdown",
   "metadata": {},
   "source": [
    "## symbolic plots - v2"
   ]
  },
  {
   "cell_type": "code",
   "execution_count": null,
   "metadata": {},
   "outputs": [],
   "source": [
    "def plot3dSym(path, title='', detail=30, x=None, y=None, Z=None, ax=None, cmap=cm.coolwarm, alpha=1, cbar_tit='',\n",
    "             return_v=False, xy_limits=None):\n",
    "  LABEL = 0\n",
    "  FREQ = 1\n",
    "  \n",
    "  iter_count = path.split('.cmdp.V_')[1].split('-')[0]\n",
    "  title = f'$V^{{{iter_count}}}$'\n",
    "  \n",
    "  if not ax:\n",
    "    fig = plt.figure()\n",
    "    ax = fig.gca(projection='3d')\n",
    "  \n",
    "  df = pd.read_csv(path, sep='\\t', header=None)\n",
    "  sx, sy, sz = df[0], df[1], df[2]  # s prefix added as x-z already existed as arguments.\n",
    "  \n",
    "  if xy_limits:\n",
    "    X, Y = np.mgrid[xy_limits[x][0]:xy_limits[x][1]:complex(0, detail), \n",
    "                    xy_limits[y][0]:xy_limits[y][1]:complex(0, detail)]\n",
    "  else:\n",
    "    X, Y = np.mgrid[min(sx):max(sx):complex(0, detail), min(sy):max(sy):complex(0, detail)]\n",
    "  Z = griddata((sx, sy), sz, (X, Y), method='linear')\n",
    "  Z = np.nan_to_num(Z)\n",
    "  \n",
    "  surf = ax.plot_surface(X, Y, Z, cmap=cmap, linewidth=0, antialiased=False, alpha=alpha, shade=False)\n",
    "  plt.xlabel(x)\n",
    "  plt.ylabel(y)\n",
    "  \n",
    "  # axis titles\n",
    "  ax.set_xlabel(limits[x][LABEL], fontsize=20, labelpad=10)\n",
    "  ax.set_ylabel(limits[y][LABEL], fontsize=20, labelpad=10)\n",
    "  ax.set_zlabel(title, fontsize=20, labelpad=10)\n",
    "  \n",
    "  # label frequency\n",
    "  ax.xaxis.set_major_locator(ticker.MultipleLocator(limits[x][FREQ]))\n",
    "  ax.yaxis.set_major_locator(ticker.MultipleLocator(limits[y][FREQ]))\n",
    "  ax.zaxis.set_major_locator(ticker.MultipleLocator(limits['Z'][FREQ]))\n",
    "  \n",
    "  # ticks size\n",
    "  ax.tick_params(axis='both', labelsize=14)\n",
    "  \n",
    "  if cbar_tit:\n",
    "    m = cm.ScalarMappable(cmap=cmap)\n",
    "    m.set_array(Z)\n",
    "    cbar = plt.colorbar(m, shrink=0.6)\n",
    "    cbar.ax.set_ylabel(cbar_tit, fontsize=16)\n",
    "    cbar.ax.tick_params(labelsize=14)\n",
    "        \n",
    "  if return_v:\n",
    "    return ax, (X, Y, Z)\n",
    "  return ax"
   ]
  },
  {
   "cell_type": "code",
   "execution_count": null,
   "metadata": {},
   "outputs": [],
   "source": [
    "# TRAFFIC\n",
    "\n",
    "path = '/home/parth/repos/decision-diagrams/xadd-inference-jihwan/src/camdp/ex/optimizedTransitions/\\\n",
    "results/traffic.cmdp.V_13-000.txt'\n",
    "\n",
    "# latex_label, label_frequency\n",
    "limits = {'Q1': ['$Q_1$', 40], 'Q4': ['$Q_4$', 30], 'Z': ['', 40]}\n",
    "\n",
    "plot3dSym(path, x='Q1', y='Q4')"
   ]
  },
  {
   "cell_type": "code",
   "execution_count": null,
   "metadata": {},
   "outputs": [],
   "source": [
    "# RESERVOIR\n",
    "\n",
    "path = '/home/parth/repos/decision-diagrams/xadd-inference-jihwan/src/camdp/ex/optimizedTransitions/\\\n",
    "results/reservoir.cmdp.V_4-000.txt'\n",
    "\n",
    "# latex_label, label_frequency\n",
    "limits = {'L1': ['$L_1$', 1000], 'L2': ['$L_2$', 600], 'Z': ['', 600]}\n",
    "\n",
    "plot3dSym(path, x='L1', y='L2')"
   ]
  },
  {
   "cell_type": "code",
   "execution_count": null,
   "metadata": {},
   "outputs": [],
   "source": []
  },
  {
   "cell_type": "code",
   "execution_count": null,
   "metadata": {},
   "outputs": [],
   "source": [
    "def plot2dSym(path, title='', x=None, y=None, ax=None, plot_limits=None, label=None):\n",
    "  LABEL = 0\n",
    "  FREQ = 1\n",
    "  \n",
    "  iter_count = path.split('.cmdp.V_')[1].split('-')[0]\n",
    "  title = f'$V^{{{iter_count}}}$'\n",
    "  \n",
    "  if not ax:\n",
    "    fig = plt.figure()\n",
    "    ax = fig.gca()\n",
    "  \n",
    "  df = pd.read_csv(path, sep='\\t', header=None)\n",
    "  sx, sy = df[0], df[1]  # s prefix added as x-z already existed as arguments.\n",
    "  ax.plot(sx, sy, linewidth=3, label=label)\n",
    "  \n",
    "  # axis titles\n",
    "  ax.set_xlabel(limits[x][LABEL], fontsize=18, labelpad=10)\n",
    "  ax.set_ylabel(title, fontsize=20, labelpad=10)\n",
    "  \n",
    "  # label frequency\n",
    "  ax.xaxis.set_major_locator(ticker.MultipleLocator(limits[x][FREQ]))\n",
    "  ax.yaxis.set_major_locator(ticker.MultipleLocator(limits[y][FREQ]))\n",
    "  \n",
    "  # ticks size\n",
    "  ax.tick_params(axis='both', labelsize=14)\n",
    "  plt.legend()\n",
    "  return ax"
   ]
  },
  {
   "cell_type": "code",
   "execution_count": null,
   "metadata": {},
   "outputs": [],
   "source": [
    "# BANDWIDTH\n",
    "\n",
    "path = '/home/parth/repos/decision-diagrams/xadd-inference-jihwan/src/camdp/ex/discact/\\\n",
    "BandwidthOptimizationProblems/results/stochastic_bandopt5.cmdp.V_11-000.txt'\n",
    "\n",
    "# latex_label, label_frequency\n",
    "limits = {'d': ['Demand (d)', 2500], 'Y': ['', 5000]}\n",
    "\n",
    "plot2dSym(path, '', x='d', y='Y', label='Symbolic')\n",
    "plt.show()"
   ]
  },
  {
   "cell_type": "code",
   "execution_count": null,
   "metadata": {},
   "outputs": [],
   "source": []
  },
  {
   "cell_type": "markdown",
   "metadata": {},
   "source": [
    "## symbolic + approx."
   ]
  },
  {
   "cell_type": "code",
   "execution_count": null,
   "metadata": {},
   "outputs": [],
   "source": [
    "# TRAFFIC\n",
    "\n",
    "path = Path('../Markov-Decision-Process-Value-Iteration-Policy-Iteration-Visualization/results/')\n",
    "limits = {'q1': [0, 100], 'q2': [0, 120], 'q3': [0, 100], 'q4': [0, 100], 'q5': [0, 100]}\n",
    "string = 'traffic_d_14'\n",
    "v = getTrafficValue(string)\n",
    "mid = v.shape[0] // 2\n",
    "ax = plot3dS(v, '', x='q1', y='q4', Z=v[:, mid, mid, :, mid], cmap=cm.winter, alpha=0.5, cbar_tit='Approximate')\n",
    "\n",
    "path = '/home/parth/repos/decision-diagrams/xadd-inference-jihwan/src/camdp/ex/optimizedTransitions/\\\n",
    "results/traffic.cmdp.V_13-000.txt'\n",
    "limits = {'Q1': ['$q_1$', 40], 'Q4': ['$q_4$', 30], 'Z': ['', 40]}\n",
    "ax = plot3dSym(path, x='Q1', y='Q4', ax=ax, cmap=cm.autumn, alpha=0.5, cbar_tit='Symbolic')"
   ]
  },
  {
   "cell_type": "code",
   "execution_count": null,
   "metadata": {},
   "outputs": [],
   "source": [
    "# RESERVOIR\n",
    "\n",
    "path = Path('../Markov-Decision-Process-Value-Iteration-Policy-Iteration-Visualization/results/')\n",
    "limits = {'L1': [1000, 3000], 'L2': [700, 1500]}\n",
    "string = 'reservoir_d_500'\n",
    "v = getReservoirValue(string)\n",
    "ax = plot3dS(v, '', x='L1', y='L2', Z=v, cmap=cm.winter, alpha=0.5, cbar_tit='Approximate')\n",
    "\n",
    "path = '/home/parth/repos/decision-diagrams/xadd-inference-jihwan/src/camdp/ex/optimizedTransitions/\\\n",
    "results/reservoir.cmdp.V_4-000.txt'\n",
    "limits = {'L1': ['$l_1$', 1000], 'L2': ['$l_2$', 600], 'Z': ['', 600]}\n",
    "plot3dSym(path, x='L1', y='L2', ax=ax, cmap=cm.autumn, alpha=0.5, cbar_tit='Symbolic')"
   ]
  },
  {
   "cell_type": "code",
   "execution_count": null,
   "metadata": {},
   "outputs": [],
   "source": [
    "# BANDWIDTH\n",
    "\n",
    "path = Path('../Markov-Decision-Process-Value-Iteration-Policy-Iteration-Visualization/results/')\n",
    "limits = {'d': [1200, 20000]}\n",
    "plot_limits = {'d': [1200, 10000]}\n",
    "string = 'bandwidth_d_5000'\n",
    "v = getBandwidthValue(string)\n",
    "ax = plot2dS(v, '', x='d', y=v, plot_limits=plot_limits, label='Approximate')\n",
    "\n",
    "path = '/home/parth/repos/decision-diagrams/xadd-inference-jihwan/src/camdp/ex/discact/\\\n",
    "BandwidthOptimizationProblems/results/stochastic_bandopt5.cmdp.V_7-000.txt'\n",
    "limits = {'d': ['Demand (d)', 2500], 'Y': ['', 5000]}\n",
    "plot2dSym(path, '', x='d', y='Y', ax=ax, label='Symbolic')\n",
    "plt.show()"
   ]
  },
  {
   "cell_type": "code",
   "execution_count": null,
   "metadata": {},
   "outputs": [],
   "source": []
  },
  {
   "cell_type": "markdown",
   "metadata": {
    "heading_collapsed": true
   },
   "source": [
    "## symbolic plots"
   ]
  },
  {
   "cell_type": "code",
   "execution_count": null,
   "metadata": {
    "hidden": true
   },
   "outputs": [],
   "source": [
    "path = '/home/parth/repos/decision-diagrams/xadd-inference-jihwan/src/camdp/ex/optimizedTransitions/\\\n",
    "results/reservoir.cmdp.V_5-000.txt'"
   ]
  },
  {
   "cell_type": "code",
   "execution_count": null,
   "metadata": {
    "hidden": true
   },
   "outputs": [],
   "source": [
    "path = '/home/parth/repos/decision-diagrams/xadd-inference-jihwan/src/camdp/ex/optimizedTransitions/\\\n",
    "results/reservoir.cmdp.V_20-000.txt'"
   ]
  },
  {
   "cell_type": "code",
   "execution_count": null,
   "metadata": {
    "hidden": true
   },
   "outputs": [],
   "source": [
    "path = '/home/parth/repos/decision-diagrams/xadd-inference-jihwan/src/camdp/ex/optimizedTransitions/\\\n",
    "results/reservoir.cmdp.V_100-000.txt'"
   ]
  },
  {
   "cell_type": "code",
   "execution_count": null,
   "metadata": {
    "hidden": true
   },
   "outputs": [],
   "source": []
  },
  {
   "cell_type": "code",
   "execution_count": null,
   "metadata": {
    "hidden": true
   },
   "outputs": [],
   "source": [
    "path = '/home/parth/repos/decision-diagrams/xadd-inference-jihwan/src/camdp/ex/optimizedTransitions/\\\n",
    "results/traffic.cmdp.V_13-000.txt'"
   ]
  },
  {
   "cell_type": "code",
   "execution_count": null,
   "metadata": {
    "hidden": true
   },
   "outputs": [],
   "source": [
    "path = '/home/parth/repos/decision-diagrams/xadd-inference-jihwan/src/camdp/ex/optimizedTransitions/\\\n",
    "results/traffic.cmdp.V_50-000.txt'"
   ]
  },
  {
   "cell_type": "code",
   "execution_count": null,
   "metadata": {
    "hidden": true
   },
   "outputs": [],
   "source": [
    "path = '/home/parth/repos/decision-diagrams/xadd-inference-jihwan/src/camdp/ex/optimizedTransitions/\\\n",
    "results/traffic.cmdp.V_200-000.txt'"
   ]
  },
  {
   "cell_type": "code",
   "execution_count": null,
   "metadata": {
    "hidden": true
   },
   "outputs": [],
   "source": []
  },
  {
   "cell_type": "code",
   "execution_count": null,
   "metadata": {
    "hidden": true
   },
   "outputs": [],
   "source": [
    "path = '/home/parth/repos/decision-diagrams/xadd-inference-jihwan/src/camdp/ex/optimizedTransitions/\\\n",
    "results/reservoir-stoch-action-results-backup/reservoir.cmdp.V_1-000.txt'"
   ]
  },
  {
   "cell_type": "code",
   "execution_count": null,
   "metadata": {
    "hidden": true
   },
   "outputs": [],
   "source": [
    "path = '/home/parth/repos/decision-diagrams/xadd-inference-jihwan/src/camdp/ex/optimizedTransitions/\\\n",
    "results/reservoir-stoch-action-results-backup/reservoir.cmdp.V_2-000.txt'"
   ]
  },
  {
   "cell_type": "code",
   "execution_count": null,
   "metadata": {
    "hidden": true
   },
   "outputs": [],
   "source": [
    "path = '/home/parth/repos/decision-diagrams/xadd-inference-jihwan/src/camdp/ex/optimizedTransitions/\\\n",
    "results/reservoir-stoch-action-results-backup/reservoir.cmdp.V_3-000.txt'"
   ]
  },
  {
   "cell_type": "code",
   "execution_count": null,
   "metadata": {
    "hidden": true
   },
   "outputs": [],
   "source": [
    "path = '/home/parth/repos/decision-diagrams/xadd-inference-jihwan/src/camdp/ex/optimizedTransitions/\\\n",
    "results/reservoir-stoch-action-results-backup/reservoir.cmdp.V_4-000.txt'"
   ]
  },
  {
   "cell_type": "code",
   "execution_count": null,
   "metadata": {
    "hidden": true
   },
   "outputs": [],
   "source": [
    "path = '/home/parth/repos/decision-diagrams/xadd-inference-jihwan/src/camdp/ex/optimizedTransitions/\\\n",
    "results/reservoir-stoch-action-results-backup/reservoir.cmdp.V_5-000.txt'"
   ]
  },
  {
   "cell_type": "code",
   "execution_count": null,
   "metadata": {
    "hidden": true
   },
   "outputs": [],
   "source": []
  },
  {
   "cell_type": "code",
   "execution_count": null,
   "metadata": {
    "hidden": true
   },
   "outputs": [],
   "source": []
  },
  {
   "cell_type": "code",
   "execution_count": null,
   "metadata": {
    "hidden": true
   },
   "outputs": [],
   "source": [
    "path = '/home/parth/repos/decision-diagrams/xadd-inference-jihwan/src/camdp/ex/optimizedTransitions/\\\n",
    "results/reservoir.cmdp.V_1-000.txt'"
   ]
  },
  {
   "cell_type": "code",
   "execution_count": null,
   "metadata": {
    "hidden": true
   },
   "outputs": [],
   "source": [
    "path = '/home/parth/repos/decision-diagrams/xadd-inference-jihwan/src/camdp/ex/optimizedTransitions/\\\n",
    "results/reservoir.cmdp.V_2-000.txt'"
   ]
  },
  {
   "cell_type": "code",
   "execution_count": null,
   "metadata": {
    "hidden": true
   },
   "outputs": [],
   "source": [
    "path = '/home/parth/repos/decision-diagrams/xadd-inference-jihwan/src/camdp/ex/optimizedTransitions/\\\n",
    "results/reservoir.cmdp.V_3-000.txt'"
   ]
  },
  {
   "cell_type": "code",
   "execution_count": null,
   "metadata": {
    "hidden": true
   },
   "outputs": [],
   "source": [
    "path = '/home/parth/repos/decision-diagrams/xadd-inference-jihwan/src/camdp/ex/optimizedTransitions/\\\n",
    "results/reservoir.cmdp.V_4-000.txt'"
   ]
  },
  {
   "cell_type": "code",
   "execution_count": null,
   "metadata": {
    "hidden": true
   },
   "outputs": [],
   "source": [
    "path = '/home/parth/repos/decision-diagrams/xadd-inference-jihwan/src/camdp/ex/optimizedTransitions/\\\n",
    "results/reservoir.cmdp.V_5-000.txt'"
   ]
  },
  {
   "cell_type": "code",
   "execution_count": null,
   "metadata": {
    "hidden": true
   },
   "outputs": [],
   "source": []
  },
  {
   "cell_type": "code",
   "execution_count": null,
   "metadata": {
    "hidden": true
   },
   "outputs": [],
   "source": []
  },
  {
   "cell_type": "code",
   "execution_count": null,
   "metadata": {
    "hidden": true
   },
   "outputs": [],
   "source": []
  },
  {
   "cell_type": "code",
   "execution_count": null,
   "metadata": {
    "hidden": true
   },
   "outputs": [],
   "source": []
  },
  {
   "cell_type": "code",
   "execution_count": null,
   "metadata": {
    "hidden": true
   },
   "outputs": [],
   "source": []
  },
  {
   "cell_type": "code",
   "execution_count": null,
   "metadata": {
    "hidden": true
   },
   "outputs": [],
   "source": []
  },
  {
   "cell_type": "code",
   "execution_count": null,
   "metadata": {
    "hidden": true
   },
   "outputs": [],
   "source": []
  },
  {
   "cell_type": "code",
   "execution_count": null,
   "metadata": {
    "hidden": true
   },
   "outputs": [],
   "source": []
  },
  {
   "cell_type": "code",
   "execution_count": null,
   "metadata": {
    "hidden": true
   },
   "outputs": [],
   "source": [
    "iter_count = path.split('.cmdp.V_')[1].split('-')[0]\n",
    "title = f'$V^{{{iter_count}}}$'"
   ]
  },
  {
   "cell_type": "code",
   "execution_count": null,
   "metadata": {
    "hidden": true
   },
   "outputs": [],
   "source": [
    "df = pd.read_csv(path, sep='\\t', header=None)"
   ]
  },
  {
   "cell_type": "code",
   "execution_count": null,
   "metadata": {
    "hidden": true
   },
   "outputs": [],
   "source": [
    "x = df[0]\n",
    "y = df[1]\n",
    "z = df[2]"
   ]
  },
  {
   "cell_type": "code",
   "execution_count": null,
   "metadata": {
    "hidden": true
   },
   "outputs": [],
   "source": [
    "x.shape, y.shape, z.shape"
   ]
  },
  {
   "cell_type": "code",
   "execution_count": null,
   "metadata": {
    "hidden": true
   },
   "outputs": [],
   "source": [
    "# gs: make tuple data compatible with matplotlib wireframe plot\n",
    "# https://stackoverflow.com/questions/21161884/plotting-a-3d-surface-from-a-list-of-tuples-in-matplotlib"
   ]
  },
  {
   "cell_type": "code",
   "execution_count": null,
   "metadata": {
    "hidden": true
   },
   "outputs": [],
   "source": [
    "# gs: plot_wireframe cmap\n",
    "# https://stackoverflow.com/questions/15134004/colored-wireframe-plot-in-matplotlib"
   ]
  },
  {
   "cell_type": "code",
   "execution_count": null,
   "metadata": {
    "hidden": true
   },
   "outputs": [],
   "source": [
    "np.mgrid[-1:1:10j]"
   ]
  },
  {
   "cell_type": "code",
   "execution_count": null,
   "metadata": {
    "hidden": true
   },
   "outputs": [],
   "source": [
    "X, Y = np.mgrid[min(x):max(x):100j, min(y):max(y):100j]\n",
    "Z = griddata((x, y), z, (X, Y), method='linear')"
   ]
  },
  {
   "cell_type": "code",
   "execution_count": null,
   "metadata": {
    "hidden": true
   },
   "outputs": [],
   "source": [
    "X, Y = np.mgrid[min(x):max(x):30j, min(y):max(y):30j]\n",
    "Z = griddata((x, y), z, (X, Y), method='linear')"
   ]
  },
  {
   "cell_type": "code",
   "execution_count": null,
   "metadata": {
    "hidden": true
   },
   "outputs": [],
   "source": [
    "(x.min(), x.max()), (y.min(), Y.max())"
   ]
  },
  {
   "cell_type": "code",
   "execution_count": null,
   "metadata": {
    "hidden": true
   },
   "outputs": [],
   "source": [
    "# created dec22, for RESERVOIR 3d plot to only have ranges within the LP feasible region.\n",
    "# x.min(): 510, x.max(): 3500; therefore x represents l1, while y represents l2.\n",
    "X, Y = np.mgrid[1000:3000:30j, 700:1500:30j]\n",
    "Z = griddata((x, y), z, (X, Y), method='linear')"
   ]
  },
  {
   "cell_type": "code",
   "execution_count": null,
   "metadata": {
    "hidden": true
   },
   "outputs": [],
   "source": [
    "X.shape, Y.shape, Z.shape"
   ]
  },
  {
   "cell_type": "code",
   "execution_count": null,
   "metadata": {
    "hidden": true
   },
   "outputs": [],
   "source": [
    "fig = plt.figure()\n",
    "ax = fig.gca(projection='3d')\n",
    "# surf = ax.plot_surface(X, Y, Z, rcount=rcount, ccount=ccount, facecolors=colors, shade=False)\n",
    "surf = ax.plot_surface(X, Y, Z, cmap=plt.cm.jet, shade=False)\n",
    "plt.show()"
   ]
  },
  {
   "cell_type": "code",
   "execution_count": null,
   "metadata": {
    "hidden": true
   },
   "outputs": [],
   "source": [
    "fig = plt.figure()\n",
    "ax = fig.gca(projection='3d')\n",
    "# surf = ax.plot_surface(X, Y, Z, rcount=rcount, ccount=ccount, facecolors=colors, shade=False)\n",
    "surf = ax.plot_surface(X, Y, Z, cmap=plt.cm.coolwarm, shade=False)"
   ]
  },
  {
   "cell_type": "code",
   "execution_count": null,
   "metadata": {
    "hidden": true
   },
   "outputs": [],
   "source": [
    "norm = plt.Normalize(Z.min(), Z.max())\n",
    "\n",
    "# colors = plt.cm.viridis(norm(Z))\n",
    "# colors = plt.cm.Spectral(norm(Z))\n",
    "# colors = plt.cm.jet(norm(Z))\n",
    "colors = plt.cm.coolwarm(norm(Z))\n",
    "\n",
    "rcount, ccount, _ = colors.shape\n",
    "\n",
    "fig = plt.figure()\n",
    "ax = fig.gca(projection='3d')\n",
    "# surf = ax.plot_surface(X, Y, Z, rcount=rcount, ccount=ccount, facecolors=colors, shade=False)\n",
    "# surf.set_facecolor((0,0,0,0))\n",
    "# surf = ax.plot_surface(X, Y, Z, cmap=plt.cm.jet, shade=False)\n",
    "surf = ax.plot_surface(X, Y, Z, cmap=plt.cm.coolwarm, shade=False)\n",
    "\n",
    "# ax.set_xlim([1000,3000])\n",
    "# ax.set_ylim([700,1500])\n",
    "\n",
    "\n",
    "# axis titles - reservoir\n",
    "ax.set_xlabel('$L_1$', fontsize=20, labelpad=10)\n",
    "ax.set_ylabel('$L_2$', fontsize=20, labelpad=10)\n",
    "ax.set_zlabel(title, fontsize=20, labelpad=10)\n",
    "\n",
    "# # label frequency - reservoir\n",
    "ax.xaxis.set_major_locator(ticker.MultipleLocator(1000))\n",
    "ax.yaxis.set_major_locator(ticker.MultipleLocator(600))\n",
    "ax.zaxis.set_major_locator(ticker.MultipleLocator(600))\n",
    "\n",
    "# axis titles - traffic\n",
    "# ax.set_xlabel('$Q_2$', fontsize=20, labelpad=10)\n",
    "# ax.set_ylabel('$Q_3$', fontsize=20, labelpad=10)\n",
    "# ax.set_zlabel(title, fontsize=20, labelpad=10)\n",
    "\n",
    "# label frequency - traffic\n",
    "# ax.xaxis.set_major_locator(ticker.MultipleLocator(40))\n",
    "# ax.yaxis.set_major_locator(ticker.MultipleLocator(30))\n",
    "# ax.zaxis.set_major_locator(ticker.MultipleLocator(20))\n",
    "\n",
    "# ax.set_xticks(ax.get_xticks()[::2])\n",
    "\n",
    "# ticks size\n",
    "ax.tick_params(axis='both', labelsize=14)\n",
    "\n",
    "plt.show()"
   ]
  },
  {
   "cell_type": "code",
   "execution_count": null,
   "metadata": {
    "hidden": true
   },
   "outputs": [],
   "source": []
  },
  {
   "cell_type": "code",
   "execution_count": null,
   "metadata": {
    "hidden": true
   },
   "outputs": [],
   "source": []
  },
  {
   "cell_type": "markdown",
   "metadata": {},
   "source": [
    "## max error plot at different d's"
   ]
  },
  {
   "cell_type": "code",
   "execution_count": null,
   "metadata": {},
   "outputs": [],
   "source": [
    "# max error between traffic symbolic and traffic approx."
   ]
  },
  {
   "cell_type": "code",
   "execution_count": null,
   "metadata": {},
   "outputs": [],
   "source": []
  },
  {
   "cell_type": "code",
   "execution_count": null,
   "metadata": {},
   "outputs": [],
   "source": [
    "# RESERVOIR\n",
    "\n",
    "path = Path('../Markov-Decision-Process-Value-Iteration-Policy-Iteration-Visualization/results/')\n",
    "limits = {'L1': [1000, 3000], 'L2': [700, 1500]}\n",
    "string = 'reservoir_d_500'\n",
    "v = getReservoirValue(string)\n",
    "ax = plot3dS(v, '', x='L1', y='L2', Z=v, cmap=cm.winter, alpha=0.5, cbar_tit='Approximate')\n",
    "\n",
    "path = '/home/parth/repos/decision-diagrams/xadd-inference-jihwan/src/camdp/ex/optimizedTransitions/\\\n",
    "results/reservoir.cmdp.V_4-000.txt'\n",
    "limits = {'L1': ['$l_1$', 1000], 'L2': ['$l_2$', 600], 'Z': ['', 600]}\n",
    "plot3dSym(path, x='L1', y='L2', ax=ax, cmap=cm.autumn, alpha=0.5, cbar_tit='Symbolic')"
   ]
  },
  {
   "cell_type": "code",
   "execution_count": null,
   "metadata": {},
   "outputs": [],
   "source": []
  },
  {
   "cell_type": "code",
   "execution_count": null,
   "metadata": {},
   "outputs": [],
   "source": [
    "path = Path('../Markov-Decision-Process-Value-Iteration-Policy-Iteration-Visualization/results/')\n",
    "limits = {'L1': [1000, 3000], 'L2': [700, 1500]}\n",
    "string = 'reservoir_d_500'\n",
    "v = getReservoirValue(string)\n",
    "ax, (X, Y, Z) = plot3dS(v, '', x='L1', y='L2', Z=v, cmap=cm.winter, alpha=0.5, cbar_tit='Approximate', \n",
    "                        return_v=True)\n",
    "\n",
    "plt.close()"
   ]
  },
  {
   "cell_type": "code",
   "execution_count": null,
   "metadata": {},
   "outputs": [],
   "source": [
    "path = '/home/parth/repos/decision-diagrams/xadd-inference-jihwan/src/camdp/ex/optimizedTransitions/\\\n",
    "results/reservoir.cmdp.V_4-000.txt'\n",
    "limits = {'L1': ['$L_1$', 1000], 'L2': ['$L_2$', 600], 'Z': ['', 600]}\n",
    "xy_limits = {'L1': [X.min(), X.max()], 'L2': [Y.min(), Y.max()]}\n",
    "ax, (X2, Y2, Z2) = plot3dSym(path, x='L1', y='L2', detail=X.shape[0], ax=ax, cmap=cm.autumn, alpha=0.5, \n",
    "                             cbar_tit='Symbolic', return_v=True, xy_limits=xy_limits)\n",
    "plt.close()"
   ]
  },
  {
   "cell_type": "code",
   "execution_count": null,
   "metadata": {},
   "outputs": [],
   "source": []
  },
  {
   "cell_type": "code",
   "execution_count": null,
   "metadata": {},
   "outputs": [],
   "source": []
  },
  {
   "cell_type": "code",
   "execution_count": null,
   "metadata": {},
   "outputs": [],
   "source": [
    "for d in range(50, 550, 50):  # \n",
    "  path = Path('../Markov-Decision-Process-Value-Iteration-Policy-Iteration-Visualization/results/')\n",
    "  limits = {'L1': [1000, 3000], 'L2': [700, 1500]}\n",
    "  v = getReservoirValue('reservoir_d_' + str(d))\n",
    "  _, (X, Y, Z) = plot3dS(v, '', x='L1', y='L2', Z=v, cmap=cm.winter, alpha=0.5, cbar_tit='Approximate', \n",
    "                        return_v=True)\n",
    "  plt.close()\n",
    "  \n",
    "  path = '/home/parth/repos/decision-diagrams/xadd-inference-jihwan/src/camdp/ex/optimizedTransitions/\\\n",
    "results/reservoir.cmdp.V_4-000.txt'\n",
    "  limits = {'L1': ['$L_1$', 1000], 'L2': ['$L_2$', 600], 'Z': ['', 600]}\n",
    "  xy_limits = {'L1': [X.min(), X.max()], 'L2': [Y.min(), Y.max()]}\n",
    "  _, (X2, Y2, Z2) = plot3dSym(path, x='L1', y='L2', detail=d, cmap=cm.autumn, alpha=0.5, \n",
    "                             cbar_tit='Symbolic', return_v=True, xy_limits=xy_limits)\n",
    "  plt.close()\n",
    "  \n",
    "  diff = Z - Z2\n",
    "  \n",
    "  # removing boundary areas\n",
    "  m = int(d / 25) # margin\n",
    "  X = X[:, 0]\n",
    "  Y = Y[0, :]\n",
    "  X = X[m:]\n",
    "  Y = Y[m:]\n",
    "  diff = diff[m:, m:]\n",
    "  \n",
    "  X, Y = np.mgrid[min(X):max(X):complex(0, X.shape[0]), min(Y):max(Y):complex(0, X.shape[0])]\n",
    "#   fig = plt.figure()\n",
    "#   ax = fig.gca(projection='3d')\n",
    "#   ax.plot_surface(X, Y, diff)\n",
    "  \n",
    "  print(d, abs(diff).max())"
   ]
  },
  {
   "cell_type": "code",
   "execution_count": null,
   "metadata": {},
   "outputs": [],
   "source": []
  },
  {
   "cell_type": "code",
   "execution_count": null,
   "metadata": {},
   "outputs": [],
   "source": [
    "fig = plt.figure()\n",
    "ax = fig.gca(projection='3d')\n",
    "\n",
    "diff = Z - Z2\n",
    "ax.plot_surface(X, Y, diff)"
   ]
  },
  {
   "cell_type": "code",
   "execution_count": null,
   "metadata": {},
   "outputs": [],
   "source": [
    "X = X[:, 0]\n",
    "X2 = X2[:, 0]\n",
    "Y = Y[0, :]\n",
    "Y2 = Y2[0, :]"
   ]
  },
  {
   "cell_type": "code",
   "execution_count": null,
   "metadata": {},
   "outputs": [],
   "source": [
    "X = X[15:]\n",
    "Y = Y[15:]\n",
    "diff = diff[15:, 15:]\n",
    "\n",
    "fig = plt.figure()\n",
    "ax = fig.gca(projection='3d')\n",
    "\n",
    "X, Y = np.mgrid[min(X):max(X):complex(0, X.shape[0]), min(Y):max(Y):complex(0, X.shape[0])]\n",
    "ax.plot_surface(X, Y, diff)"
   ]
  },
  {
   "cell_type": "code",
   "execution_count": null,
   "metadata": {},
   "outputs": [],
   "source": [
    "diff = abs(diff)\n",
    "diff.max()"
   ]
  },
  {
   "cell_type": "code",
   "execution_count": null,
   "metadata": {},
   "outputs": [],
   "source": [
    "fig = plt.figure()\n",
    "ax = fig.gca(projection='3d')\n",
    "ax.plot_surface(X, Y, diff)"
   ]
  },
  {
   "cell_type": "code",
   "execution_count": null,
   "metadata": {},
   "outputs": [],
   "source": []
  },
  {
   "cell_type": "code",
   "execution_count": null,
   "metadata": {},
   "outputs": [],
   "source": []
  },
  {
   "cell_type": "code",
   "execution_count": null,
   "metadata": {},
   "outputs": [],
   "source": []
  },
  {
   "cell_type": "markdown",
   "metadata": {},
   "source": [
    "## time-space complexity vs. discretization"
   ]
  },
  {
   "cell_type": "code",
   "execution_count": null,
   "metadata": {},
   "outputs": [],
   "source": [
    "def load_specific(string):\n",
    "    for file in path.iterdir():\n",
    "        if string in str(file):\n",
    "            print(file)\n",
    "            with open(file, 'r') as f:\n",
    "                return f.read()"
   ]
  },
  {
   "cell_type": "code",
   "execution_count": null,
   "metadata": {},
   "outputs": [],
   "source": [
    "def getIterSpaceTime(with_str):\n",
    "  iter_st = json.loads(load_specific(with_str))\n",
    "  return {int(k): v for k, v in sorted(iter_st.items(), key=lambda item: int(item[0]))}"
   ]
  },
  {
   "cell_type": "code",
   "execution_count": null,
   "metadata": {},
   "outputs": [],
   "source": [
    "path = Path('../Markov-Decision-Process-Value-Iteration-Policy-Iteration-Visualization/results/')\n",
    "TIME = 0\n",
    "MEMORY = 1\n",
    "approx_solution_plots = {\n",
    "  'traffic': [4, 8, 12],\n",
    "  'reservoir': [50, 250, 500],\n",
    "  'bandwidth': [1000, 3000, 5000]\n",
    "}\n",
    "env_names = ['Traffic Management', 'Reservoir Management', 'Bandwidth Optimization']\n",
    "env_c_vars = [5, 2, 1]\n",
    "ls = ['o-', 'o-.', 'o--']\n",
    "colors = ['']"
   ]
  },
  {
   "cell_type": "code",
   "execution_count": null,
   "metadata": {},
   "outputs": [],
   "source": []
  },
  {
   "cell_type": "code",
   "execution_count": null,
   "metadata": {},
   "outputs": [],
   "source": [
    "fig, (ax1, ax2) = plt.subplots(2, 1, sharex=True)\n",
    "\n",
    "for eidx, (env, ds) in enumerate(approx_solution_plots.items()):\n",
    "  iter_st = getIterSpaceTime(env + '_iter_space_time')\n",
    "  x = range(len(iter_st.keys()))\n",
    "  \n",
    "  memorys = list(map(lambda x: x[MEMORY][-1], iter_st.values()))\n",
    "  times = list(map(lambda x: x[TIME][-1], iter_st.values()))\n",
    "  ax1.plot(x, memorys, ls[eidx], linewidth=2, label=env_names[eidx])\n",
    "  ax2.plot(x, times, ls[eidx], linewidth=2, label=env_names[eidx])\n",
    "\n",
    "ax1.legend()\n",
    "ax1.set_ylabel('Memory (Bytes)')\n",
    "ax2.set_ylabel('Time (ms)')\n",
    "ax2.set_xlabel('Discretization')\n",
    "\n",
    "ax2.axes.xaxis.set_ticklabels([])\n",
    "plt.show()"
   ]
  },
  {
   "cell_type": "code",
   "execution_count": null,
   "metadata": {},
   "outputs": [],
   "source": []
  },
  {
   "cell_type": "code",
   "execution_count": null,
   "metadata": {},
   "outputs": [],
   "source": []
  },
  {
   "cell_type": "markdown",
   "metadata": {},
   "source": [
    "## time-space complexity plots - v2"
   ]
  },
  {
   "cell_type": "code",
   "execution_count": null,
   "metadata": {},
   "outputs": [],
   "source": [
    "TIME = 0\n",
    "MEMORY = 1\n",
    "approx_solution_plots = [4, 12]\n",
    "ls = ['o-', 'o-.', 'o--']"
   ]
  },
  {
   "cell_type": "code",
   "execution_count": null,
   "metadata": {},
   "outputs": [],
   "source": [
    "def get_df(path):\n",
    "  df = pd.read_csv(path, sep=\"\\s+|;|:\", header=None, engine='python')\n",
    "  df = df[[1, 5, 8, 11]]\n",
    "  df.columns = ['iter', 'nodes', 'branches', 'time']\n",
    "  return df"
   ]
  },
  {
   "cell_type": "code",
   "execution_count": null,
   "metadata": {},
   "outputs": [],
   "source": [
    "path = '/home/parth/repos/decision-diagrams/xadd-inference-jihwan/src/camdp/ex/optimizedTransitions/results/'\n",
    "file = 'traffic_copy.cmdp.log'\n",
    "df = get_df(path + file)\n",
    "\n",
    "file = 'reservoir_copy.cmdp.log'\n",
    "df2 = get_df(path + file)\n",
    "\n",
    "path = '/home/parth/repos/decision-diagrams/xadd-inference-jihwan/src/camdp/ex/discact/\\\n",
    "BandwidthOptimizationProblems/results/'\n",
    "file = 'stochastic_bandopt5_copy.cmdp.log'\n",
    "df3 = get_df(path + file)"
   ]
  },
  {
   "cell_type": "code",
   "execution_count": null,
   "metadata": {},
   "outputs": [],
   "source": [
    "fig, (ax1, ax2) = plt.subplots(2, 1, sharex=True)\n",
    "\n",
    "# FIGURE1 - AXIS1\n",
    "# color = 'tab:red'\n",
    "color = None\n",
    "ax1.plot(df.iter, df.nodes, 'o--', linewidth=2, markevery=1, label='Traffic Management', color=color)\n",
    "ax1.plot(df2.iter, df2.nodes, 'o-', linewidth=2, label='Reservoir Management', color=color)\n",
    "ax1.plot(df3.iter, df3.nodes, 'o-.', linewidth=2, markevery=1, label='Bandwidth Optimization', color=color)\n",
    "\n",
    "ax1.set_ylabel('Size of $V^h$ (Nodes)')\n",
    "ax1.set_xlabel('Horizon $(h)$')\n",
    "# ax1.tick_params(axis='y', labelcolor=color)\n",
    "ax1.tick_params(axis='y')\n",
    "\n",
    "ax1.set_xlim([0, 13])\n",
    "ax1.set_ylim([-100, 1000])\n",
    "\n",
    "lines, labels = ax1.get_legend_handles_labels()\n",
    "ax1.legend(lines, labels, loc=0)\n",
    "\n",
    "# FIGURE2\n",
    "# color = 'tab:red'\n",
    "color = None\n",
    "ax2.plot(df.iter, df.time, 'o--', linewidth=2, markevery=1, label='Traffic Management', color=color)\n",
    "ax2.plot(df2.iter, df2.time, 'o-', linewidth=2, label='Reservoir Management', color=color)\n",
    "ax2.plot(df3.iter, df3.time, 'o-.', linewidth=2, markevery=1, label='Bandwidth Optimization', color=color)\n",
    "\n",
    "ax2.set_ylabel('Time (ms)')\n",
    "ax2.set_xlabel('Horizon $(h)$')\n",
    "\n",
    "ax1.set_xlim([0, 13])\n",
    "ax2.set_ylim(-1000, 55000)\n",
    "\n",
    "plt.show()"
   ]
  },
  {
   "cell_type": "markdown",
   "metadata": {},
   "source": [
    "## time-space complexity vs. horizon + approx. solution with different d's"
   ]
  },
  {
   "cell_type": "code",
   "execution_count": null,
   "metadata": {},
   "outputs": [],
   "source": [
    "# things copied from 'time-space complexity plots' section and then approximate solution added to it."
   ]
  },
  {
   "cell_type": "code",
   "execution_count": null,
   "metadata": {},
   "outputs": [],
   "source": [
    "path = Path('../Markov-Decision-Process-Value-Iteration-Policy-Iteration-Visualization/results/')\n",
    "env = 'traffic'\n",
    "iter_st = getIterSpaceTime(env + '_iter_space_time')"
   ]
  },
  {
   "cell_type": "code",
   "execution_count": null,
   "metadata": {},
   "outputs": [],
   "source": [
    "fig, (ax1, ax2) = plt.subplots(2, 1, sharex=True)\n",
    "\n",
    "# FIGURE1 - AXIS1\n",
    "color = 'tab:red'\n",
    "ax1.plot(df.iter, df.nodes, 'o--', linewidth=2, markevery=2, label='Traffic Management', color=color)\n",
    "ax1.plot(df2.iter, df2.nodes, 'o-', linewidth=2, label='Reservoir Management', color=color)\n",
    "ax1.plot(df3.iter, df3.nodes, 'o-.', linewidth=2, markevery=2, label='Bandwidth Optimization', color=color)\n",
    "\n",
    "ax1.set_ylabel('Size of $V^h$ (Nodes)')\n",
    "ax1.set_xlabel('Horizon $(h)$')\n",
    "ax1.tick_params(axis='y', labelcolor=color)\n",
    "\n",
    "ax1.set_xlim([-1, 14])\n",
    "ax1.set_ylim([-100, 1000])\n",
    "\n",
    "# FIGURE1 - AXIS2\n",
    "color = 'tab:blue'\n",
    "ax1_2 = ax1.twinx()\n",
    "for i, d in enumerate(approx_solution_plots):\n",
    "    ax1_2.plot(iter_st[d][MEMORY], ls[i], linewidth=2, markevery=2, label=f'Discretization: {d}', color=color)\n",
    "ax1_2.set_ylabel('Memory Size (Bytes)')\n",
    "ax1_2.tick_params(axis='y', labelcolor=color)\n",
    "\n",
    "lines, labels = ax1.get_legend_handles_labels()\n",
    "lines2, labels2 = ax1_2.get_legend_handles_labels()\n",
    "ax1.legend(lines + lines2, labels + labels2, loc=0)\n",
    "\n",
    "# FIGURE2\n",
    "color = 'tab:red'\n",
    "ax2.plot(df.iter, df.time, 'o--', linewidth=2, markevery=2, label='Traffic Management', color=color)\n",
    "ax2.plot(df2.iter, df2.time, 'o-', linewidth=2, label='Reservoir Management', color=color)\n",
    "ax2.plot(df3.iter, df3.time, 'o-.', linewidth=2, markevery=2, label='Bandwidth Optimization', color=color)\n",
    "\n",
    "ax2.set_ylabel('Time (ms)')\n",
    "ax2.set_xlabel('Horizon $(h)$')\n",
    "\n",
    "ax2.set_xlim([-1, 14])\n",
    "ax2.set_ylim(-1000, 22000)\n",
    "\n",
    "color = 'tab:blue'\n",
    "for i, d in enumerate(approx_solution_plots):\n",
    "    ax2.plot(iter_st[d][TIME], ls[i], linewidth=2, markevery=2, label=f'Discretization: {d}', color=color)\n",
    "\n",
    "plt.show()"
   ]
  },
  {
   "cell_type": "code",
   "execution_count": null,
   "metadata": {},
   "outputs": [],
   "source": []
  },
  {
   "cell_type": "code",
   "execution_count": null,
   "metadata": {},
   "outputs": [],
   "source": []
  },
  {
   "cell_type": "markdown",
   "metadata": {
    "heading_collapsed": true
   },
   "source": [
    "### time-space complexity plots"
   ]
  },
  {
   "cell_type": "code",
   "execution_count": null,
   "metadata": {
    "hidden": true
   },
   "outputs": [],
   "source": [
    "%matplotlib qt\n",
    "# %matplotlib inline"
   ]
  },
  {
   "cell_type": "code",
   "execution_count": null,
   "metadata": {
    "hidden": true
   },
   "outputs": [],
   "source": [
    "path = '/home/parth/repos/decision-diagrams/xadd-inference-jihwan/src/camdp/ex/optimizedTransitions/results/'"
   ]
  },
  {
   "cell_type": "code",
   "execution_count": null,
   "metadata": {
    "hidden": true
   },
   "outputs": [],
   "source": [
    "file = 'traffic_run_info.cmdp.log'"
   ]
  },
  {
   "cell_type": "code",
   "execution_count": null,
   "metadata": {
    "hidden": true
   },
   "outputs": [],
   "source": [
    "df = pd.read_csv(path + file, sep=\"\\s+|;|:\", header=None, engine='python')\n",
    "df = df[[1, 5, 8, 11]]\n",
    "df.columns = ['iter', 'nodes', 'branches', 'time']"
   ]
  },
  {
   "cell_type": "code",
   "execution_count": null,
   "metadata": {
    "hidden": true
   },
   "outputs": [],
   "source": []
  },
  {
   "cell_type": "code",
   "execution_count": null,
   "metadata": {
    "hidden": true
   },
   "outputs": [],
   "source": [
    "# Iter:1 Complete. Took: 7ms, Nodes = 16, Memory = 16336896:530579456 bytes.\n",
    "# Iter:2 Complete. Took: 162 ms, Nodes = 72, Memory = 231716864:645922816 bytes.\n",
    "# Iter:3 Complete. Took: 2048 ms, Nodes = 314, Memory = 273398040:775946240 bytes.\n",
    "# Iter:4 Complete. Took: 142951 ms, Nodes = 1110, Memory = 734678792:2564816896 bytes.\n",
    "# Iter:5 Complete. Took: 14655783 ms, Nodes = 3420, Memory = 3415978672:4519362560 bytes."
   ]
  },
  {
   "cell_type": "code",
   "execution_count": null,
   "metadata": {
    "hidden": true
   },
   "outputs": [],
   "source": [
    "df2 = pd.DataFrame({\n",
    "    'iter': [1, 2, 3, 4, 5],\n",
    "    'nodes': [16, 72, 314, 1110, 3420],\n",
    "    'time': [7, 162, 2048, 142951, 14655783]\n",
    "})"
   ]
  },
  {
   "cell_type": "code",
   "execution_count": null,
   "metadata": {
    "hidden": true
   },
   "outputs": [],
   "source": []
  },
  {
   "cell_type": "code",
   "execution_count": null,
   "metadata": {
    "hidden": true
   },
   "outputs": [],
   "source": [
    "file2 = 'stochastic_bandopt5.cmdp.log'"
   ]
  },
  {
   "cell_type": "code",
   "execution_count": null,
   "metadata": {
    "hidden": true
   },
   "outputs": [],
   "source": [
    "df3 = pd.read_csv(path + file2, sep=\"\\s+|;|:\", header=None, engine='python')\n",
    "df3 = df3[[1, 5, 8, 11]]\n",
    "df3.columns = ['iter', 'nodes', 'branches', 'time']"
   ]
  },
  {
   "cell_type": "code",
   "execution_count": null,
   "metadata": {
    "hidden": true
   },
   "outputs": [],
   "source": []
  },
  {
   "cell_type": "code",
   "execution_count": null,
   "metadata": {
    "hidden": true
   },
   "outputs": [],
   "source": [
    "fig, (ax1, ax2) = plt.subplots(2, 1, sharex=True)\n",
    "\n",
    "ax1.plot(df.iter, df.nodes, 'o--', linewidth=2, markevery=4, label='Traffic Management')\n",
    "ax1.plot(df2.iter, df2.nodes, 'o-', linewidth=2, label='Reservoir Management')\n",
    "ax1.plot(df3.iter, df3.nodes, 'o-.', linewidth=2, markevery=4, label='Bandwidth Optimization')\n",
    "\n",
    "ax1.set_ylabel('Size of $V^h$ (Nodes)')\n",
    "ax1.set_xlabel('Horizon $(h)$')\n",
    "\n",
    "ax1.set_xlim([-5,100])\n",
    "ax1.set_ylim([-100,1000])\n",
    "ax1.legend()\n",
    "\n",
    "\n",
    "ax2.plot(df.iter, df.time, 'o--', linewidth=2, markevery=4, label='Traffic Management')\n",
    "ax2.plot(df2.iter, df2.time, 'o-', linewidth=2, label='Reservoir Management')\n",
    "ax2.plot(df3.iter, df3.time, 'o-.', linewidth=2, markevery=4, label='Bandwidth Optimization')\n",
    "\n",
    "ax2.set_ylabel('Time (ms)')\n",
    "ax2.set_xlabel('Horizon $(h)$')\n",
    "\n",
    "ax2.set_xlim([-5,100])\n",
    "ax2.set_ylim([-1000,8000])\n",
    "# ax2.legend()\n",
    "\n",
    "plt.show()"
   ]
  },
  {
   "cell_type": "code",
   "execution_count": null,
   "metadata": {
    "hidden": true
   },
   "outputs": [],
   "source": []
  },
  {
   "cell_type": "code",
   "execution_count": null,
   "metadata": {
    "hidden": true
   },
   "outputs": [],
   "source": [
    "plt.cm.Dark2.colors"
   ]
  },
  {
   "cell_type": "code",
   "execution_count": null,
   "metadata": {
    "hidden": true
   },
   "outputs": [],
   "source": [
    "fig, (ax1, ax2) = plt.subplots(2, 1, sharex=True)\n",
    "\n",
    "n_plots = 5\n",
    "norm = plt.Normalize(1, n_plots)\n",
    "colors = plt.cm.coolwarm(norm(range(n_plots)))\n",
    "# colors = plt.cm.jet(norm(range(n_plots)))\n",
    "\n",
    "# ax1.plot(df.iter, df.nodes, 'o--', markevery=2, label='Traffic Management', color=colors[1])\n",
    "# ax1.plot(df2.iter, df2.nodes, 'o-', label='Reservoir Management', color=colors[2])\n",
    "# ax1.plot(df3.iter, df3.nodes, 'o-.', markevery=2, label='Bandwidth Optimization', color=colors[3])\n",
    "\n",
    "ax1.plot(df.iter, df.nodes, 'o--', markevery=2, label='Traffic Management', color=plt.cm.Dark2.colors[0])\n",
    "ax1.plot(df2.iter, df2.nodes, 'o-', label='Reservoir Management', color=plt.cm.Dark2.colors[1])\n",
    "ax1.plot(df3.iter, df3.nodes, 'o-.', markevery=2, label='Bandwidth Optimization', color=plt.cm.Dark2.colors[2])\n",
    "\n",
    "ax1.set_ylabel('Size of $V^h$ (Nodes)')\n",
    "ax1.set_xlabel('Horizon $(h)$')\n",
    "\n",
    "ax1.set_xlim([-5,100])\n",
    "# ax1.set_ylim([-100,1000])\n",
    "ax1.legend()\n",
    "\n",
    "\n",
    "ax2.plot(df.iter, df.time, 'o--', markevery=2, label='Traffic Management')\n",
    "ax2.plot(df2.iter, df2.time, 'o-', label='Reservoir Management')\n",
    "ax2.plot(df3.iter, df3.time, 'o-.', markevery=2, label='Bandwidth Optimization')\n",
    "\n",
    "ax2.set_ylabel('Time (ms)')\n",
    "ax2.set_xlabel('Horizon $(h)$')\n",
    "\n",
    "ax2.set_xlim([-5,100])\n",
    "# ax2.set_ylim([-1000,8000])\n",
    "# ax2.legend()\n",
    "\n",
    "plt.show()"
   ]
  },
  {
   "cell_type": "code",
   "execution_count": null,
   "metadata": {
    "hidden": true
   },
   "outputs": [],
   "source": [
    "df.time.max(), df2.time.max(), df3.time.max()"
   ]
  },
  {
   "cell_type": "code",
   "execution_count": null,
   "metadata": {
    "hidden": true
   },
   "outputs": [],
   "source": []
  },
  {
   "cell_type": "code",
   "execution_count": null,
   "metadata": {
    "hidden": true
   },
   "outputs": [],
   "source": []
  },
  {
   "cell_type": "code",
   "execution_count": null,
   "metadata": {
    "hidden": true
   },
   "outputs": [],
   "source": []
  },
  {
   "cell_type": "code",
   "execution_count": null,
   "metadata": {
    "hidden": true
   },
   "outputs": [],
   "source": [
    "plt.plot(df.iter, df.nodes, 'o-')\n",
    "plt.plot(df2.iter, df2.nodes, 'o-.')\n",
    "\n",
    "ax = plt.gca()\n",
    "\n",
    "ax.set_xlabel('Horizon $(h)$', fontsize=20)\n",
    "ax.set_ylabel('Size of $V^h$ (Nodes)', fontsize=20)"
   ]
  },
  {
   "cell_type": "code",
   "execution_count": null,
   "metadata": {
    "hidden": true
   },
   "outputs": [],
   "source": [
    "plt.plot(df.iter, df.time, 'o-')"
   ]
  },
  {
   "cell_type": "code",
   "execution_count": null,
   "metadata": {
    "hidden": true
   },
   "outputs": [],
   "source": []
  },
  {
   "cell_type": "code",
   "execution_count": null,
   "metadata": {
    "hidden": true
   },
   "outputs": [],
   "source": []
  },
  {
   "cell_type": "code",
   "execution_count": null,
   "metadata": {
    "hidden": true
   },
   "outputs": [],
   "source": []
  },
  {
   "cell_type": "code",
   "execution_count": null,
   "metadata": {
    "hidden": true
   },
   "outputs": [],
   "source": []
  },
  {
   "cell_type": "code",
   "execution_count": null,
   "metadata": {
    "hidden": true
   },
   "outputs": [],
   "source": []
  },
  {
   "cell_type": "code",
   "execution_count": null,
   "metadata": {
    "hidden": true
   },
   "outputs": [],
   "source": []
  },
  {
   "cell_type": "code",
   "execution_count": null,
   "metadata": {
    "hidden": true
   },
   "outputs": [],
   "source": [
    "# create df from lists. for case of reservoir."
   ]
  },
  {
   "cell_type": "code",
   "execution_count": null,
   "metadata": {
    "hidden": true
   },
   "outputs": [],
   "source": [
    "percentile_list = pd.DataFrame(\n",
    "    {'lst1Title': lst1,\n",
    "     'lst2Title': lst2,\n",
    "     'lst3Title': lst3\n",
    "    })"
   ]
  },
  {
   "cell_type": "code",
   "execution_count": null,
   "metadata": {
    "hidden": true
   },
   "outputs": [],
   "source": []
  },
  {
   "cell_type": "code",
   "execution_count": null,
   "metadata": {
    "hidden": true
   },
   "outputs": [],
   "source": []
  },
  {
   "cell_type": "code",
   "execution_count": null,
   "metadata": {
    "hidden": true
   },
   "outputs": [],
   "source": []
  },
  {
   "cell_type": "code",
   "execution_count": null,
   "metadata": {
    "hidden": true
   },
   "outputs": [],
   "source": []
  },
  {
   "cell_type": "code",
   "execution_count": null,
   "metadata": {
    "hidden": true
   },
   "outputs": [],
   "source": []
  },
  {
   "cell_type": "code",
   "execution_count": null,
   "metadata": {
    "hidden": true
   },
   "outputs": [],
   "source": [
    "iter_count = path.split('.cmdp.V_')[1].split('-')[0]\n",
    "title = f'$V^{{{iter_count}}}$'"
   ]
  },
  {
   "cell_type": "code",
   "execution_count": null,
   "metadata": {
    "hidden": true
   },
   "outputs": [],
   "source": [
    "df = pd.read_csv(path, sep='\\t', header=None)"
   ]
  },
  {
   "cell_type": "code",
   "execution_count": null,
   "metadata": {
    "hidden": true
   },
   "outputs": [],
   "source": [
    "x = df[0]\n",
    "y = df[1]\n",
    "z = df[2]"
   ]
  },
  {
   "cell_type": "code",
   "execution_count": null,
   "metadata": {
    "hidden": true
   },
   "outputs": [],
   "source": [
    "# gs: make tuple data compatible with matplotlib wireframe plot\n",
    "# https://stackoverflow.com/questions/21161884/plotting-a-3d-surface-from-a-list-of-tuples-in-matplotlib"
   ]
  },
  {
   "cell_type": "code",
   "execution_count": null,
   "metadata": {
    "hidden": true
   },
   "outputs": [],
   "source": [
    "# gs: plot_wireframe cmap\n",
    "# https://stackoverflow.com/questions/15134004/colored-wireframe-plot-in-matplotlib"
   ]
  },
  {
   "cell_type": "code",
   "execution_count": null,
   "metadata": {
    "hidden": true
   },
   "outputs": [],
   "source": [
    "X, Y = np.mgrid[min(x):max(x):100j, min(y):max(y):100j]\n",
    "Z = griddata((x, y), z, (X, Y), method='linear')"
   ]
  },
  {
   "cell_type": "code",
   "execution_count": null,
   "metadata": {
    "hidden": true
   },
   "outputs": [],
   "source": [
    "X, Y = np.mgrid[min(x):max(x):30j, min(y):max(y):30j]\n",
    "Z = griddata((x, y), z, (X, Y), method='linear')"
   ]
  },
  {
   "cell_type": "code",
   "execution_count": null,
   "metadata": {
    "hidden": true
   },
   "outputs": [],
   "source": []
  },
  {
   "cell_type": "code",
   "execution_count": null,
   "metadata": {
    "hidden": true
   },
   "outputs": [],
   "source": []
  },
  {
   "cell_type": "code",
   "execution_count": null,
   "metadata": {
    "hidden": true
   },
   "outputs": [],
   "source": []
  },
  {
   "cell_type": "code",
   "execution_count": null,
   "metadata": {
    "hidden": true
   },
   "outputs": [],
   "source": []
  }
 ],
 "metadata": {
  "kernelspec": {
   "display_name": "Python 3",
   "language": "python",
   "name": "python3"
  },
  "language_info": {
   "codemirror_mode": {
    "name": "ipython",
    "version": 3
   },
   "file_extension": ".py",
   "mimetype": "text/x-python",
   "name": "python",
   "nbconvert_exporter": "python",
   "pygments_lexer": "ipython3",
   "version": "3.6.10"
  }
 },
 "nbformat": 4,
 "nbformat_minor": 4
}
