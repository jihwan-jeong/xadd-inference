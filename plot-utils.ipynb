{
 "cells": [
  {
   "cell_type": "code",
   "execution_count": 4,
   "metadata": {},
   "outputs": [],
   "source": [
    "import pandas as pd\n",
    "from mpl_toolkits import mplot3d\n",
    "from mpl_toolkits.mplot3d import axes3d, Axes3D\n",
    "import matplotlib.pyplot as plt\n",
    "import numpy as np\n",
    "from scipy.interpolate import griddata\n",
    "import matplotlib.ticker as ticker"
   ]
  },
  {
   "cell_type": "code",
   "execution_count": 163,
   "metadata": {},
   "outputs": [],
   "source": [
    "%matplotlib qt\n",
    "# %matplotlib inline"
   ]
  },
  {
   "cell_type": "code",
   "execution_count": 263,
   "metadata": {},
   "outputs": [],
   "source": [
    "path = '/home/parth/repos/decision-diagrams/xadd-inference-jihwan/src/camdp/ex/optimizedTransitions/\\\n",
    "results/reservoir.cmdp.V_5-000.txt'"
   ]
  },
  {
   "cell_type": "code",
   "execution_count": 89,
   "metadata": {},
   "outputs": [],
   "source": [
    "path = '/home/parth/repos/decision-diagrams/xadd-inference-jihwan/src/camdp/ex/optimizedTransitions/\\\n",
    "results/reservoir.cmdp.V_20-000.txt'"
   ]
  },
  {
   "cell_type": "code",
   "execution_count": 102,
   "metadata": {},
   "outputs": [],
   "source": [
    "path = '/home/parth/repos/decision-diagrams/xadd-inference-jihwan/src/camdp/ex/optimizedTransitions/\\\n",
    "results/reservoir.cmdp.V_100-000.txt'"
   ]
  },
  {
   "cell_type": "code",
   "execution_count": null,
   "metadata": {},
   "outputs": [],
   "source": []
  },
  {
   "cell_type": "code",
   "execution_count": 6,
   "metadata": {},
   "outputs": [],
   "source": [
    "path = '/home/parth/repos/decision-diagrams/xadd-inference-jihwan/src/camdp/ex/optimizedTransitions/\\\n",
    "results/traffic.cmdp.V_50-000.txt'"
   ]
  },
  {
   "cell_type": "code",
   "execution_count": 247,
   "metadata": {},
   "outputs": [],
   "source": [
    "path = '/home/parth/repos/decision-diagrams/xadd-inference-jihwan/src/camdp/ex/optimizedTransitions/\\\n",
    "results/traffic.cmdp.V_200-000.txt'"
   ]
  },
  {
   "cell_type": "code",
   "execution_count": null,
   "metadata": {},
   "outputs": [],
   "source": []
  },
  {
   "cell_type": "code",
   "execution_count": 28,
   "metadata": {},
   "outputs": [],
   "source": [
    "path = '/home/parth/repos/decision-diagrams/xadd-inference-jihwan/src/camdp/ex/optimizedTransitions/\\\n",
    "results/reservoir-stoch-action-results-backup/reservoir.cmdp.V_1-000.txt'"
   ]
  },
  {
   "cell_type": "code",
   "execution_count": 39,
   "metadata": {},
   "outputs": [],
   "source": [
    "path = '/home/parth/repos/decision-diagrams/xadd-inference-jihwan/src/camdp/ex/optimizedTransitions/\\\n",
    "results/reservoir-stoch-action-results-backup/reservoir.cmdp.V_2-000.txt'"
   ]
  },
  {
   "cell_type": "code",
   "execution_count": 50,
   "metadata": {},
   "outputs": [],
   "source": [
    "path = '/home/parth/repos/decision-diagrams/xadd-inference-jihwan/src/camdp/ex/optimizedTransitions/\\\n",
    "results/reservoir-stoch-action-results-backup/reservoir.cmdp.V_3-000.txt'"
   ]
  },
  {
   "cell_type": "code",
   "execution_count": 56,
   "metadata": {},
   "outputs": [],
   "source": [
    "path = '/home/parth/repos/decision-diagrams/xadd-inference-jihwan/src/camdp/ex/optimizedTransitions/\\\n",
    "results/reservoir-stoch-action-results-backup/reservoir.cmdp.V_4-000.txt'"
   ]
  },
  {
   "cell_type": "code",
   "execution_count": 280,
   "metadata": {},
   "outputs": [],
   "source": [
    "path = '/home/parth/repos/decision-diagrams/xadd-inference-jihwan/src/camdp/ex/optimizedTransitions/\\\n",
    "results/reservoir-stoch-action-results-backup/reservoir.cmdp.V_5-000.txt'"
   ]
  },
  {
   "cell_type": "code",
   "execution_count": null,
   "metadata": {},
   "outputs": [],
   "source": []
  },
  {
   "cell_type": "code",
   "execution_count": null,
   "metadata": {},
   "outputs": [],
   "source": []
  },
  {
   "cell_type": "code",
   "execution_count": 71,
   "metadata": {},
   "outputs": [],
   "source": [
    "path = '/home/parth/repos/decision-diagrams/xadd-inference-jihwan/src/camdp/ex/optimizedTransitions/\\\n",
    "results/reservoir.cmdp.V_1-000.txt'"
   ]
  },
  {
   "cell_type": "code",
   "execution_count": 79,
   "metadata": {},
   "outputs": [],
   "source": [
    "path = '/home/parth/repos/decision-diagrams/xadd-inference-jihwan/src/camdp/ex/optimizedTransitions/\\\n",
    "results/reservoir.cmdp.V_2-000.txt'"
   ]
  },
  {
   "cell_type": "code",
   "execution_count": 86,
   "metadata": {},
   "outputs": [],
   "source": [
    "path = '/home/parth/repos/decision-diagrams/xadd-inference-jihwan/src/camdp/ex/optimizedTransitions/\\\n",
    "results/reservoir.cmdp.V_3-000.txt'"
   ]
  },
  {
   "cell_type": "code",
   "execution_count": 94,
   "metadata": {},
   "outputs": [],
   "source": [
    "path = '/home/parth/repos/decision-diagrams/xadd-inference-jihwan/src/camdp/ex/optimizedTransitions/\\\n",
    "results/reservoir.cmdp.V_4-000.txt'"
   ]
  },
  {
   "cell_type": "code",
   "execution_count": 100,
   "metadata": {},
   "outputs": [],
   "source": [
    "path = '/home/parth/repos/decision-diagrams/xadd-inference-jihwan/src/camdp/ex/optimizedTransitions/\\\n",
    "results/reservoir.cmdp.V_5-000.txt'"
   ]
  },
  {
   "cell_type": "code",
   "execution_count": null,
   "metadata": {},
   "outputs": [],
   "source": []
  },
  {
   "cell_type": "code",
   "execution_count": 281,
   "metadata": {},
   "outputs": [],
   "source": [
    "iter_count = path.split('.cmdp.V_')[1].split('-')[0]\n",
    "title = f'$V^{{{iter_count}}}$'"
   ]
  },
  {
   "cell_type": "code",
   "execution_count": 282,
   "metadata": {},
   "outputs": [],
   "source": [
    "df = pd.read_csv(path, sep='\\t', header=None)"
   ]
  },
  {
   "cell_type": "code",
   "execution_count": 283,
   "metadata": {},
   "outputs": [],
   "source": [
    "x = df[0]\n",
    "y = df[1]\n",
    "z = df[2]"
   ]
  },
  {
   "cell_type": "code",
   "execution_count": 275,
   "metadata": {},
   "outputs": [],
   "source": [
    "# gs: make tuple data compatible with matplotlib wireframe plot\n",
    "# https://stackoverflow.com/questions/21161884/plotting-a-3d-surface-from-a-list-of-tuples-in-matplotlib"
   ]
  },
  {
   "cell_type": "code",
   "execution_count": 276,
   "metadata": {},
   "outputs": [],
   "source": [
    "# gs: plot_wireframe cmap\n",
    "# https://stackoverflow.com/questions/15134004/colored-wireframe-plot-in-matplotlib"
   ]
  },
  {
   "cell_type": "code",
   "execution_count": 277,
   "metadata": {},
   "outputs": [],
   "source": [
    "X, Y = np.mgrid[min(x):max(x):100j, min(y):max(y):100j]\n",
    "Z = griddata((x, y), z, (X, Y), method='linear')"
   ]
  },
  {
   "cell_type": "code",
   "execution_count": 284,
   "metadata": {},
   "outputs": [],
   "source": [
    "X, Y = np.mgrid[min(x):max(x):30j, min(y):max(y):30j]\n",
    "Z = griddata((x, y), z, (X, Y), method='linear')"
   ]
  },
  {
   "cell_type": "code",
   "execution_count": null,
   "metadata": {},
   "outputs": [],
   "source": []
  },
  {
   "cell_type": "code",
   "execution_count": 258,
   "metadata": {},
   "outputs": [],
   "source": [
    "fig = plt.figure()\n",
    "ax = fig.gca(projection='3d')\n",
    "# surf = ax.plot_surface(X, Y, Z, rcount=rcount, ccount=ccount, facecolors=colors, shade=False)\n",
    "surf = ax.plot_surface(X, Y, Z, cmap=plt.cm.jet, shade=False)"
   ]
  },
  {
   "cell_type": "code",
   "execution_count": 259,
   "metadata": {},
   "outputs": [],
   "source": [
    "fig = plt.figure()\n",
    "ax = fig.gca(projection='3d')\n",
    "# surf = ax.plot_surface(X, Y, Z, rcount=rcount, ccount=ccount, facecolors=colors, shade=False)\n",
    "surf = ax.plot_surface(X, Y, Z, cmap=plt.cm.coolwarm, shade=False)"
   ]
  },
  {
   "cell_type": "code",
   "execution_count": 288,
   "metadata": {},
   "outputs": [],
   "source": [
    "norm = plt.Normalize(Z.min(), Z.max())\n",
    "\n",
    "# colors = plt.cm.viridis(norm(Z))\n",
    "# colors = plt.cm.Spectral(norm(Z))\n",
    "# colors = plt.cm.jet(norm(Z))\n",
    "colors = plt.cm.coolwarm(norm(Z))\n",
    "\n",
    "rcount, ccount, _ = colors.shape\n",
    "\n",
    "fig = plt.figure()\n",
    "ax = fig.gca(projection='3d')\n",
    "# surf = ax.plot_surface(X, Y, Z, rcount=rcount, ccount=ccount, facecolors=colors, shade=False)\n",
    "# surf.set_facecolor((0,0,0,0))\n",
    "# surf = ax.plot_surface(X, Y, Z, cmap=plt.cm.jet, shade=False)\n",
    "surf = ax.plot_surface(X, Y, Z, cmap=plt.cm.coolwarm, shade=False)\n",
    "\n",
    "ax.set_xlim([1000,3000])\n",
    "ax.set_ylim([700,1500])\n",
    "\n",
    "\n",
    "# axis titles - reservoir\n",
    "ax.set_xlabel('$L_1$', fontsize=20, labelpad=10)\n",
    "ax.set_ylabel('$L_2$', fontsize=20, labelpad=10)\n",
    "ax.set_zlabel(title, fontsize=20, labelpad=10)\n",
    "\n",
    "# label frequency - reservoir\n",
    "ax.xaxis.set_major_locator(ticker.MultipleLocator(1000))\n",
    "ax.yaxis.set_major_locator(ticker.MultipleLocator(600))\n",
    "ax.zaxis.set_major_locator(ticker.MultipleLocator(600))\n",
    "\n",
    "# axis titles - traffic\n",
    "# ax.set_xlabel('$Q_2$', fontsize=20, labelpad=10)\n",
    "# ax.set_ylabel('$Q_3$', fontsize=20, labelpad=10)\n",
    "# ax.set_zlabel(title, fontsize=20, labelpad=10)\n",
    "\n",
    "# label frequency - traffic\n",
    "# ax.xaxis.set_major_locator(ticker.MultipleLocator(40))\n",
    "# ax.yaxis.set_major_locator(ticker.MultipleLocator(30))\n",
    "# ax.zaxis.set_major_locator(ticker.MultipleLocator(20))\n",
    "\n",
    "# ax.set_xticks(ax.get_xticks()[::2])\n",
    "\n",
    "# ticks size\n",
    "ax.tick_params(axis='both', labelsize=14)\n",
    "\n",
    "plt.show()"
   ]
  },
  {
   "cell_type": "code",
   "execution_count": null,
   "metadata": {},
   "outputs": [],
   "source": []
  },
  {
   "cell_type": "code",
   "execution_count": null,
   "metadata": {},
   "outputs": [],
   "source": []
  },
  {
   "cell_type": "markdown",
   "metadata": {},
   "source": [
    "### time-space complexity plots"
   ]
  },
  {
   "cell_type": "code",
   "execution_count": 194,
   "metadata": {},
   "outputs": [],
   "source": [
    "%matplotlib qt\n",
    "# %matplotlib inline"
   ]
  },
  {
   "cell_type": "code",
   "execution_count": 109,
   "metadata": {},
   "outputs": [],
   "source": [
    "path = '/home/parth/repos/decision-diagrams/xadd-inference-jihwan/src/camdp/ex/optimizedTransitions/results/'"
   ]
  },
  {
   "cell_type": "code",
   "execution_count": 110,
   "metadata": {},
   "outputs": [],
   "source": [
    "file = 'traffic_run_info.cmdp.log'"
   ]
  },
  {
   "cell_type": "code",
   "execution_count": 157,
   "metadata": {},
   "outputs": [],
   "source": [
    "df = pd.read_csv(path + file, sep=\"\\s+|;|:\", header=None, engine='python')\n",
    "df = df[[1, 5, 8, 11]]\n",
    "df.columns = ['iter', 'nodes', 'branches', 'time']"
   ]
  },
  {
   "cell_type": "code",
   "execution_count": null,
   "metadata": {},
   "outputs": [],
   "source": []
  },
  {
   "cell_type": "code",
   "execution_count": null,
   "metadata": {},
   "outputs": [],
   "source": [
    "# Iter:1 Complete. Took: 7ms, Nodes = 16, Memory = 16336896:530579456 bytes.\n",
    "# Iter:2 Complete. Took: 162 ms, Nodes = 72, Memory = 231716864:645922816 bytes.\n",
    "# Iter:3 Complete. Took: 2048 ms, Nodes = 314, Memory = 273398040:775946240 bytes.\n",
    "# Iter:4 Complete. Took: 142951 ms, Nodes = 1110, Memory = 734678792:2564816896 bytes.\n",
    "# Iter:5 Complete. Took: 14655783 ms, Nodes = 3420, Memory = 3415978672:4519362560 bytes."
   ]
  },
  {
   "cell_type": "code",
   "execution_count": 195,
   "metadata": {},
   "outputs": [],
   "source": [
    "df2 = pd.DataFrame({\n",
    "    'iter': [1, 2, 3, 4, 5],\n",
    "    'nodes': [16, 72, 314, 1110, 3420],\n",
    "    'time': [7, 162, 2048, 142951, 14655783]\n",
    "})"
   ]
  },
  {
   "cell_type": "code",
   "execution_count": null,
   "metadata": {},
   "outputs": [],
   "source": []
  },
  {
   "cell_type": "code",
   "execution_count": 188,
   "metadata": {},
   "outputs": [],
   "source": [
    "file2 = 'stochastic_bandopt5.cmdp.log'"
   ]
  },
  {
   "cell_type": "code",
   "execution_count": 192,
   "metadata": {},
   "outputs": [],
   "source": [
    "df3 = pd.read_csv(path + file2, sep=\"\\s+|;|:\", header=None, engine='python')\n",
    "df3 = df3[[1, 5, 8, 11]]\n",
    "df3.columns = ['iter', 'nodes', 'branches', 'time']"
   ]
  },
  {
   "cell_type": "code",
   "execution_count": null,
   "metadata": {},
   "outputs": [],
   "source": []
  },
  {
   "cell_type": "code",
   "execution_count": 219,
   "metadata": {},
   "outputs": [],
   "source": [
    "fig, (ax1, ax2) = plt.subplots(2, 1, sharex=True)\n",
    "\n",
    "ax1.plot(df.iter, df.nodes, 'o--', linewidth=2, markevery=4, label='Traffic Management')\n",
    "ax1.plot(df2.iter, df2.nodes, 'o-', linewidth=2, label='Reservoir Management')\n",
    "ax1.plot(df3.iter, df3.nodes, 'o-.', linewidth=2, markevery=4, label='Bandwidth Optimization')\n",
    "\n",
    "ax1.set_ylabel('Size of $V^h$ (Nodes)')\n",
    "ax1.set_xlabel('Horizon $(h)$')\n",
    "\n",
    "ax1.set_xlim([-5,100])\n",
    "ax1.set_ylim([-100,1000])\n",
    "ax1.legend()\n",
    "\n",
    "\n",
    "ax2.plot(df.iter, df.time, 'o--', linewidth=2, markevery=4, label='Traffic Management')\n",
    "ax2.plot(df2.iter, df2.time, 'o-', linewidth=2, label='Reservoir Management')\n",
    "ax2.plot(df3.iter, df3.time, 'o-.', linewidth=2, markevery=4, label='Bandwidth Optimization')\n",
    "\n",
    "ax2.set_ylabel('Time (ms)')\n",
    "ax2.set_xlabel('Horizon $(h)$')\n",
    "\n",
    "ax2.set_xlim([-5,100])\n",
    "ax2.set_ylim([-1000,8000])\n",
    "# ax2.legend()\n",
    "\n",
    "plt.show()"
   ]
  },
  {
   "cell_type": "code",
   "execution_count": null,
   "metadata": {},
   "outputs": [],
   "source": []
  },
  {
   "cell_type": "code",
   "execution_count": 245,
   "metadata": {},
   "outputs": [
    {
     "data": {
      "text/plain": [
       "((0.10588235294117647, 0.6196078431372549, 0.4666666666666667),\n",
       " (0.8509803921568627, 0.37254901960784315, 0.00784313725490196),\n",
       " (0.4588235294117647, 0.4392156862745098, 0.7019607843137254),\n",
       " (0.9058823529411765, 0.1607843137254902, 0.5411764705882353),\n",
       " (0.4, 0.6509803921568628, 0.11764705882352941),\n",
       " (0.9019607843137255, 0.6705882352941176, 0.00784313725490196),\n",
       " (0.6509803921568628, 0.4627450980392157, 0.11372549019607843),\n",
       " (0.4, 0.4, 0.4))"
      ]
     },
     "execution_count": 245,
     "metadata": {},
     "output_type": "execute_result"
    }
   ],
   "source": [
    "plt.cm.Dark2.colors"
   ]
  },
  {
   "cell_type": "code",
   "execution_count": 246,
   "metadata": {},
   "outputs": [],
   "source": [
    "fig, (ax1, ax2) = plt.subplots(2, 1, sharex=True)\n",
    "\n",
    "n_plots = 5\n",
    "norm = plt.Normalize(1, n_plots)\n",
    "colors = plt.cm.coolwarm(norm(range(n_plots)))\n",
    "# colors = plt.cm.jet(norm(range(n_plots)))\n",
    "\n",
    "# ax1.plot(df.iter, df.nodes, 'o--', markevery=2, label='Traffic Management', color=colors[1])\n",
    "# ax1.plot(df2.iter, df2.nodes, 'o-', label='Reservoir Management', color=colors[2])\n",
    "# ax1.plot(df3.iter, df3.nodes, 'o-.', markevery=2, label='Bandwidth Optimization', color=colors[3])\n",
    "\n",
    "ax1.plot(df.iter, df.nodes, 'o--', markevery=2, label='Traffic Management', color=plt.cm.Dark2.colors[0])\n",
    "ax1.plot(df2.iter, df2.nodes, 'o-', label='Reservoir Management', color=plt.cm.Dark2.colors[1])\n",
    "ax1.plot(df3.iter, df3.nodes, 'o-.', markevery=2, label='Bandwidth Optimization', color=plt.cm.Dark2.colors[2])\n",
    "\n",
    "ax1.set_ylabel('Size of $V^h$ (Nodes)')\n",
    "ax1.set_xlabel('Horizon $(h)$')\n",
    "\n",
    "ax1.set_xlim([-5,100])\n",
    "# ax1.set_ylim([-100,1000])\n",
    "ax1.legend()\n",
    "\n",
    "\n",
    "ax2.plot(df.iter, df.time, 'o--', markevery=2, label='Traffic Management')\n",
    "ax2.plot(df2.iter, df2.time, 'o-', label='Reservoir Management')\n",
    "ax2.plot(df3.iter, df3.time, 'o-.', markevery=2, label='Bandwidth Optimization')\n",
    "\n",
    "ax2.set_ylabel('Time (ms)')\n",
    "ax2.set_xlabel('Horizon $(h)$')\n",
    "\n",
    "ax2.set_xlim([-5,100])\n",
    "# ax2.set_ylim([-1000,8000])\n",
    "# ax2.legend()\n",
    "\n",
    "plt.show()"
   ]
  },
  {
   "cell_type": "code",
   "execution_count": 214,
   "metadata": {},
   "outputs": [
    {
     "data": {
      "text/plain": [
       "(82, 14655783, 5119)"
      ]
     },
     "execution_count": 214,
     "metadata": {},
     "output_type": "execute_result"
    }
   ],
   "source": [
    "df.time.max(), df2.time.max(), df3.time.max()"
   ]
  },
  {
   "cell_type": "code",
   "execution_count": null,
   "metadata": {},
   "outputs": [],
   "source": []
  },
  {
   "cell_type": "code",
   "execution_count": null,
   "metadata": {},
   "outputs": [],
   "source": []
  },
  {
   "cell_type": "code",
   "execution_count": null,
   "metadata": {},
   "outputs": [],
   "source": []
  },
  {
   "cell_type": "code",
   "execution_count": 196,
   "metadata": {},
   "outputs": [
    {
     "data": {
      "text/plain": [
       "Text(0, 0.5, 'Size of $V^h$ (Nodes)')"
      ]
     },
     "execution_count": 196,
     "metadata": {},
     "output_type": "execute_result"
    }
   ],
   "source": [
    "plt.plot(df.iter, df.nodes, 'o-')\n",
    "plt.plot(df2.iter, df2.nodes, 'o-.')\n",
    "\n",
    "ax = plt.gca()\n",
    "\n",
    "ax.set_xlabel('Horizon $(h)$', fontsize=20)\n",
    "ax.set_ylabel('Size of $V^h$ (Nodes)', fontsize=20)"
   ]
  },
  {
   "cell_type": "code",
   "execution_count": 197,
   "metadata": {},
   "outputs": [],
   "source": [
    "plt.plot(df.iter, df.time, 'o-')"
   ]
  },
  {
   "cell_type": "code",
   "execution_count": null,
   "metadata": {},
   "outputs": [],
   "source": []
  },
  {
   "cell_type": "code",
   "execution_count": null,
   "metadata": {},
   "outputs": [],
   "source": []
  },
  {
   "cell_type": "code",
   "execution_count": null,
   "metadata": {},
   "outputs": [],
   "source": []
  },
  {
   "cell_type": "code",
   "execution_count": null,
   "metadata": {},
   "outputs": [],
   "source": []
  },
  {
   "cell_type": "code",
   "execution_count": null,
   "metadata": {},
   "outputs": [],
   "source": []
  },
  {
   "cell_type": "code",
   "execution_count": null,
   "metadata": {},
   "outputs": [],
   "source": []
  },
  {
   "cell_type": "code",
   "execution_count": null,
   "metadata": {},
   "outputs": [],
   "source": [
    "# create df from lists. for case of reservoir."
   ]
  },
  {
   "cell_type": "code",
   "execution_count": null,
   "metadata": {},
   "outputs": [],
   "source": [
    "percentile_list = pd.DataFrame(\n",
    "    {'lst1Title': lst1,\n",
    "     'lst2Title': lst2,\n",
    "     'lst3Title': lst3\n",
    "    })"
   ]
  },
  {
   "cell_type": "code",
   "execution_count": null,
   "metadata": {},
   "outputs": [],
   "source": []
  },
  {
   "cell_type": "code",
   "execution_count": null,
   "metadata": {},
   "outputs": [],
   "source": []
  },
  {
   "cell_type": "code",
   "execution_count": null,
   "metadata": {},
   "outputs": [],
   "source": []
  },
  {
   "cell_type": "code",
   "execution_count": null,
   "metadata": {},
   "outputs": [],
   "source": []
  },
  {
   "cell_type": "code",
   "execution_count": null,
   "metadata": {},
   "outputs": [],
   "source": []
  },
  {
   "cell_type": "code",
   "execution_count": 101,
   "metadata": {},
   "outputs": [],
   "source": [
    "iter_count = path.split('.cmdp.V_')[1].split('-')[0]\n",
    "title = f'$V^{{{iter_count}}}$'"
   ]
  },
  {
   "cell_type": "code",
   "execution_count": 102,
   "metadata": {},
   "outputs": [],
   "source": [
    "df = pd.read_csv(path, sep='\\t', header=None)"
   ]
  },
  {
   "cell_type": "code",
   "execution_count": 103,
   "metadata": {},
   "outputs": [],
   "source": [
    "x = df[0]\n",
    "y = df[1]\n",
    "z = df[2]"
   ]
  },
  {
   "cell_type": "code",
   "execution_count": 104,
   "metadata": {},
   "outputs": [],
   "source": [
    "# gs: make tuple data compatible with matplotlib wireframe plot\n",
    "# https://stackoverflow.com/questions/21161884/plotting-a-3d-surface-from-a-list-of-tuples-in-matplotlib"
   ]
  },
  {
   "cell_type": "code",
   "execution_count": 105,
   "metadata": {},
   "outputs": [],
   "source": [
    "# gs: plot_wireframe cmap\n",
    "# https://stackoverflow.com/questions/15134004/colored-wireframe-plot-in-matplotlib"
   ]
  },
  {
   "cell_type": "code",
   "execution_count": 106,
   "metadata": {},
   "outputs": [],
   "source": [
    "X, Y = np.mgrid[min(x):max(x):100j, min(y):max(y):100j]\n",
    "Z = griddata((x, y), z, (X, Y), method='linear')"
   ]
  },
  {
   "cell_type": "code",
   "execution_count": 107,
   "metadata": {},
   "outputs": [],
   "source": [
    "X, Y = np.mgrid[min(x):max(x):30j, min(y):max(y):30j]\n",
    "Z = griddata((x, y), z, (X, Y), method='linear')"
   ]
  },
  {
   "cell_type": "code",
   "execution_count": null,
   "metadata": {},
   "outputs": [],
   "source": []
  },
  {
   "cell_type": "code",
   "execution_count": null,
   "metadata": {},
   "outputs": [],
   "source": []
  },
  {
   "cell_type": "code",
   "execution_count": null,
   "metadata": {},
   "outputs": [],
   "source": []
  },
  {
   "cell_type": "code",
   "execution_count": null,
   "metadata": {},
   "outputs": [],
   "source": []
  }
 ],
 "metadata": {
  "kernelspec": {
   "display_name": "Python 3",
   "language": "python",
   "name": "python3"
  },
  "language_info": {
   "codemirror_mode": {
    "name": "ipython",
    "version": 3
   },
   "file_extension": ".py",
   "mimetype": "text/x-python",
   "name": "python",
   "nbconvert_exporter": "python",
   "pygments_lexer": "ipython3",
   "version": "3.6.10"
  }
 },
 "nbformat": 4,
 "nbformat_minor": 4
}
