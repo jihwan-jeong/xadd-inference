{
 "cells": [
  {
   "cell_type": "code",
   "execution_count": null,
   "metadata": {},
   "outputs": [],
   "source": [
    "import os\n",
    "import pandas as pd\n",
    "# from mpl_toolkits import mplot3d\n",
    "from mpl_toolkits.mplot3d import axes3d, Axes3D\n",
    "# import PyQt5\n",
    "import matplotlib.pyplot as plt\n",
    "from matplotlib import cm\n",
    "import numpy as np\n",
    "from scipy.interpolate import griddata\n",
    "import matplotlib.ticker as ticker\n",
    "from pathlib import Path\n",
    "import json"
   ]
  },
  {
   "cell_type": "code",
   "execution_count": null,
   "metadata": {},
   "outputs": [],
   "source": [
    "%matplotlib qt\n",
    "# %matplotlib inline"
   ]
  },
  {
   "cell_type": "markdown",
   "metadata": {},
   "source": [
    "### infeasibility plots"
   ]
  },
  {
   "cell_type": "code",
   "execution_count": null,
   "metadata": {},
   "outputs": [],
   "source": [
    "path = Path('../Markov-Decision-Process-Value-Iteration-Policy-Iteration-Visualization/results/')\n",
    "env = 'isFeasible'  # traffic, reservoir, bandwidth\n",
    "\n",
    "lst = [p for p in path.iterdir() if env in str(p)]\n",
    "lst[:5]"
   ]
  },
  {
   "cell_type": "code",
   "execution_count": null,
   "metadata": {},
   "outputs": [],
   "source": [
    "def load_specific(string):\n",
    "    for file in path.iterdir():\n",
    "        if string in str(file):\n",
    "            print(file)\n",
    "            with open(file, 'r') as f:\n",
    "                return f.read()"
   ]
  },
  {
   "cell_type": "code",
   "execution_count": null,
   "metadata": {},
   "outputs": [],
   "source": [
    "def getValue(with_str):\n",
    "    return np.array(json.loads(load_specific(with_str)))[:, :]"
   ]
  },
  {
   "cell_type": "code",
   "execution_count": null,
   "metadata": {},
   "outputs": [],
   "source": [
    "def plot3dS(value, title=''):\n",
    "    discretization = value.shape[0]\n",
    "    fig = plt.figure()\n",
    "    ax = fig.gca(projection='3d')\n",
    "\n",
    "    X = np.linspace(xmin, xmax, discretization)\n",
    "    Y = np.linspace(ymin, ymax, discretization)\n",
    "\n",
    "    X, Y = np.meshgrid(X, Y)\n",
    "    Z = value[:, :]\n",
    "    surf = ax.plot_surface(X, Y, Z, cmap=cm.coolwarm, linewidth=0, antialiased=False)\n",
    "    plt.title(title)\n",
    "    plt.xlabel('L2')\n",
    "    plt.ylabel('L1')\n",
    "\n",
    "# x and y axis are inverted.\n",
    "# l2 is the first index now. xmin, xmax correspond to l2 and so does plt.xlabel.\n",
    "# value.shape = (300, 300)\n",
    "# first dim becomes y, while second becomes x."
   ]
  },
  {
   "cell_type": "code",
   "execution_count": null,
   "metadata": {},
   "outputs": [],
   "source": [
    "# xmin, xmax = 0, 300\n",
    "# ymin, ymax = 0, 300"
   ]
  },
  {
   "cell_type": "code",
   "execution_count": null,
   "metadata": {},
   "outputs": [],
   "source": [
    "xmin, xmax = 700, 1500\n",
    "ymin, ymax = 1000, 3000"
   ]
  },
  {
   "cell_type": "code",
   "execution_count": null,
   "metadata": {},
   "outputs": [],
   "source": [
    "string = 'a_0_r_0'\n",
    "v = getValue(string)\n",
    "plot3dS(v, f'isFeasible_{string}')"
   ]
  },
  {
   "cell_type": "code",
   "execution_count": null,
   "metadata": {},
   "outputs": [],
   "source": [
    "string = 'a_0_r_1'\n",
    "v = getValue(string)\n",
    "plot3dS(v, f'isFeasible_{string}')"
   ]
  },
  {
   "cell_type": "code",
   "execution_count": null,
   "metadata": {},
   "outputs": [],
   "source": [
    "string = 'a_1_r_0'\n",
    "v = getValue(string)\n",
    "plot3dS(v, f'isFeasible_{string}')"
   ]
  },
  {
   "cell_type": "code",
   "execution_count": null,
   "metadata": {},
   "outputs": [],
   "source": [
    "string = 'a_1_r_1'\n",
    "v = getValue(string)\n",
    "plot3dS(v, f'isFeasible_{string}')"
   ]
  },
  {
   "cell_type": "markdown",
   "metadata": {},
   "source": [
    "### approximate solution - value plots"
   ]
  },
  {
   "cell_type": "code",
   "execution_count": null,
   "metadata": {},
   "outputs": [],
   "source": [
    "path = Path('../Markov-Decision-Process-Value-Iteration-Policy-Iteration-Visualization/results/')\n",
    "env = 'traffic'  # traffic, reservoir, bandwidth\n",
    "\n",
    "lst = [p for p in path.iterdir() if env in str(p)]\n",
    "lst[:5]"
   ]
  },
  {
   "cell_type": "code",
   "execution_count": null,
   "metadata": {},
   "outputs": [],
   "source": [
    "def load_specific(string):\n",
    "    for file in path.iterdir():\n",
    "        if string in str(file):\n",
    "            print(file)\n",
    "            with open(file, 'r') as f:\n",
    "                return f.read()"
   ]
  },
  {
   "cell_type": "markdown",
   "metadata": {},
   "source": [
    "### reservoir"
   ]
  },
  {
   "cell_type": "code",
   "execution_count": null,
   "metadata": {},
   "outputs": [],
   "source": [
    "xmin, xmax = 1000, 3000\n",
    "ymin, ymax = 700, 1500"
   ]
  },
  {
   "cell_type": "code",
   "execution_count": null,
   "metadata": {},
   "outputs": [],
   "source": [
    "def getValue(with_str):\n",
    "    return np.array(json.loads(load_specific(with_str)))[:, :, 0]"
   ]
  },
  {
   "cell_type": "code",
   "execution_count": null,
   "metadata": {},
   "outputs": [],
   "source": [
    "def plot3dS(value, title=''):\n",
    "    discretization = value.shape[0]\n",
    "    fig = plt.figure()\n",
    "    ax = fig.gca(projection='3d')\n",
    "\n",
    "    X = np.linspace(xmin, xmax, discretization)\n",
    "    Y = np.linspace(ymin, ymax, discretization)\n",
    "\n",
    "    X, Y = np.meshgrid(X, Y)\n",
    "    Z = value[:, :]\n",
    "    surf = ax.plot_surface(X, Y, Z, cmap=cm.coolwarm, linewidth=0, antialiased=False)\n",
    "    plt.title(title)\n",
    "    plt.xlabel('L1')\n",
    "    plt.ylabel('L2')"
   ]
  },
  {
   "cell_type": "code",
   "execution_count": null,
   "metadata": {},
   "outputs": [],
   "source": [
    "# why are value plots so weird. \n",
    "# and why is value propogation starting from lower regions rather than higher regions."
   ]
  },
  {
   "cell_type": "code",
   "execution_count": null,
   "metadata": {},
   "outputs": [],
   "source": [
    "string = '_200'\n",
    "v = getValue(string)\n",
    "plot3dS(v, string)\n",
    "# plot3dS_J(v, 'reservoir', x_range=(1000, 3000), y_range=(700, 1500))"
   ]
  },
  {
   "cell_type": "code",
   "execution_count": null,
   "metadata": {},
   "outputs": [],
   "source": [
    "for i in range(50, 500, 50):\n",
    "    string = '_' + str(i)\n",
    "    v = getValue(string)\n",
    "    r_500_300\n",
    "    plot3dS(v,string)"
   ]
  },
  {
   "cell_type": "code",
   "execution_count": null,
   "metadata": {},
   "outputs": [],
   "source": []
  },
  {
   "cell_type": "code",
   "execution_count": null,
   "metadata": {},
   "outputs": [],
   "source": []
  },
  {
   "cell_type": "code",
   "execution_count": null,
   "metadata": {},
   "outputs": [],
   "source": [
    "i = 150\n",
    "string = '_' + str(i)\n",
    "v = getValue(string)\n",
    "plot3dS(v,string)"
   ]
  },
  {
   "cell_type": "code",
   "execution_count": null,
   "metadata": {},
   "outputs": [],
   "source": [
    "for i in range(50, 500, 50):\n",
    "    string = '_' + str(i)\n",
    "    v = getValue(string)\n",
    "    plot3dS(v,string)"
   ]
  },
  {
   "cell_type": "code",
   "execution_count": null,
   "metadata": {},
   "outputs": [],
   "source": []
  },
  {
   "cell_type": "code",
   "execution_count": null,
   "metadata": {},
   "outputs": [],
   "source": []
  },
  {
   "cell_type": "code",
   "execution_count": null,
   "metadata": {},
   "outputs": [],
   "source": [
    "\n",
    "v11 = np.array(json.loads(load_specific('11')))\n",
    "v16 = np.array(json.loads(load_specific('16')))\n",
    "v17 = np.array(json.loads(load_specific('17')))"
   ]
  },
  {
   "cell_type": "code",
   "execution_count": null,
   "metadata": {},
   "outputs": [],
   "source": []
  },
  {
   "cell_type": "code",
   "execution_count": null,
   "metadata": {},
   "outputs": [],
   "source": [
    "plot3dS(max_value, v11)"
   ]
  },
  {
   "cell_type": "code",
   "execution_count": null,
   "metadata": {},
   "outputs": [],
   "source": []
  },
  {
   "cell_type": "code",
   "execution_count": null,
   "metadata": {},
   "outputs": [],
   "source": []
  },
  {
   "cell_type": "code",
   "execution_count": null,
   "metadata": {},
   "outputs": [],
   "source": []
  },
  {
   "cell_type": "code",
   "execution_count": null,
   "metadata": {},
   "outputs": [],
   "source": []
  },
  {
   "cell_type": "code",
   "execution_count": null,
   "metadata": {},
   "outputs": [],
   "source": []
  },
  {
   "cell_type": "code",
   "execution_count": null,
   "metadata": {},
   "outputs": [],
   "source": []
  },
  {
   "cell_type": "code",
   "execution_count": null,
   "metadata": {},
   "outputs": [],
   "source": []
  },
  {
   "cell_type": "code",
   "execution_count": null,
   "metadata": {},
   "outputs": [],
   "source": []
  },
  {
   "cell_type": "markdown",
   "metadata": {},
   "source": [
    "### traffic"
   ]
  },
  {
   "cell_type": "code",
   "execution_count": null,
   "metadata": {},
   "outputs": [],
   "source": [
    "def getJson(with_str):\n",
    "    return json.loads(load_specific(with_str))"
   ]
  },
  {
   "cell_type": "code",
   "execution_count": null,
   "metadata": {},
   "outputs": [],
   "source": [
    "def getValue(with_str):\n",
    "    return np.array(getJson(with_str))"
   ]
  },
  {
   "cell_type": "code",
   "execution_count": null,
   "metadata": {},
   "outputs": [],
   "source": [
    "limits = {'q1': [0, 100], 'q2': [0, 120], 'q3': [0, 100], 'q4': [0, 100], 'q5': [0, 100]}"
   ]
  },
  {
   "cell_type": "code",
   "execution_count": null,
   "metadata": {},
   "outputs": [],
   "source": [
    "def plot3dS(value, title='', x=None, y=None, Z=None, ax=None):\n",
    "    discretization = value.shape[0]\n",
    "    if not ax:\n",
    "        fig = plt.figure()\n",
    "        ax = fig.gca(projection='3d')\n",
    "\n",
    "    X = np.linspace(*limits[x], discretization)\n",
    "    Y = np.linspace(*limits[y], discretization)\n",
    "\n",
    "    X, Y = np.meshgrid(X, Y)\n",
    "    surf = ax.plot_surface(X, Y, Z, cmap=cm.coolwarm, linewidth=0, antialiased=False)\n",
    "    plt.title(title)\n",
    "    plt.xlabel(x)\n",
    "    plt.ylabel(y)\n",
    "    return ax\n",
    "\n",
    "# x and y axis are inverted.\n",
    "# l2 is the first index now. xmin, xmax correspond to l2 and so does plt.xlabel.\n",
    "# value.shape = (300, 300)\n",
    "# first dim becomes y, while second becomes x."
   ]
  },
  {
   "cell_type": "code",
   "execution_count": null,
   "metadata": {},
   "outputs": [],
   "source": []
  },
  {
   "cell_type": "code",
   "execution_count": null,
   "metadata": {},
   "outputs": [],
   "source": [
    "string = 'traffic'\n",
    "v = getValue('traffic_d')\n",
    "plot3dS(v, string, x='q3', y='q2', Z=v[-1, :, :, -1, -1])"
   ]
  },
  {
   "cell_type": "code",
   "execution_count": null,
   "metadata": {},
   "outputs": [],
   "source": [
    "string = 'traffic'\n",
    "v = getValue('traffic')\n",
    "mid = v.shape[0] // 2\n",
    "plot3dS(v, string, x='q4', y='q1', Z=v[:, mid, mid, :, mid])"
   ]
  },
  {
   "cell_type": "code",
   "execution_count": null,
   "metadata": {},
   "outputs": [],
   "source": [
    "string = 'traffic'\n",
    "v = getValue('traffic')\n",
    "mid = v.shape[0] // 2\n",
    "plot3dS(v, string, x='q3', y='q1', Z=v[:, -1, :, -1, -1])"
   ]
  },
  {
   "cell_type": "markdown",
   "metadata": {},
   "source": [
    "### superimpose value plots"
   ]
  },
  {
   "cell_type": "code",
   "execution_count": null,
   "metadata": {},
   "outputs": [],
   "source": [
    "st = getJson('traffic_space')\n",
    "d = list(map(int, st.keys()))"
   ]
  },
  {
   "cell_type": "code",
   "execution_count": null,
   "metadata": {},
   "outputs": [],
   "source": []
  },
  {
   "cell_type": "code",
   "execution_count": null,
   "metadata": {},
   "outputs": [],
   "source": [
    "v = getValue('traffic_space')"
   ]
  },
  {
   "cell_type": "code",
   "execution_count": null,
   "metadata": {},
   "outputs": [],
   "source": [
    "string = 'traffic'\n",
    "v = getValue('traffic_d_6')\n",
    "ax = plot3dS(v, string, x='q3', y='q2', Z=v[-1, :, :, -1, -1])\n",
    "v = getValue('traffic_d_12')\n",
    "ax = plot3dS(v, string, x='q3', y='q2', Z=v[-1, :, :, -1, -1], ax=ax)"
   ]
  },
  {
   "cell_type": "code",
   "execution_count": null,
   "metadata": {},
   "outputs": [],
   "source": []
  },
  {
   "cell_type": "code",
   "execution_count": null,
   "metadata": {},
   "outputs": [],
   "source": [
    "string = 'traffic'\n",
    "v = getValue('traffic')\n",
    "mid = v.shape[0] // 2\n",
    "plot3dS(v, string, x='q4', y='q1', Z=v[:, mid, mid, :, mid])"
   ]
  },
  {
   "cell_type": "code",
   "execution_count": null,
   "metadata": {},
   "outputs": [],
   "source": []
  },
  {
   "cell_type": "markdown",
   "metadata": {},
   "source": [
    "### symbolic plots"
   ]
  },
  {
   "cell_type": "code",
   "execution_count": null,
   "metadata": {},
   "outputs": [],
   "source": []
  },
  {
   "cell_type": "code",
   "execution_count": null,
   "metadata": {},
   "outputs": [],
   "source": [
    "path = '/home/parth/repos/decision-diagrams/xadd-inference-jihwan/src/camdp/ex/optimizedTransitions/\\\n",
    "results/reservoir.cmdp.V_5-000.txt'"
   ]
  },
  {
   "cell_type": "code",
   "execution_count": null,
   "metadata": {},
   "outputs": [],
   "source": [
    "path = '/home/parth/repos/decision-diagrams/xadd-inference-jihwan/src/camdp/ex/optimizedTransitions/\\\n",
    "results/reservoir.cmdp.V_20-000.txt'"
   ]
  },
  {
   "cell_type": "code",
   "execution_count": null,
   "metadata": {},
   "outputs": [],
   "source": [
    "path = '/home/parth/repos/decision-diagrams/xadd-inference-jihwan/src/camdp/ex/optimizedTransitions/\\\n",
    "results/reservoir.cmdp.V_100-000.txt'"
   ]
  },
  {
   "cell_type": "code",
   "execution_count": null,
   "metadata": {},
   "outputs": [],
   "source": []
  },
  {
   "cell_type": "code",
   "execution_count": null,
   "metadata": {},
   "outputs": [],
   "source": [
    "path = '/home/parth/repos/decision-diagrams/xadd-inference-jihwan/src/camdp/ex/optimizedTransitions/\\\n",
    "results/traffic.cmdp.V_50-000.txt'"
   ]
  },
  {
   "cell_type": "code",
   "execution_count": null,
   "metadata": {},
   "outputs": [],
   "source": [
    "path = '/home/parth/repos/decision-diagrams/xadd-inference-jihwan/src/camdp/ex/optimizedTransitions/\\\n",
    "results/traffic.cmdp.V_200-000.txt'"
   ]
  },
  {
   "cell_type": "code",
   "execution_count": null,
   "metadata": {},
   "outputs": [],
   "source": []
  },
  {
   "cell_type": "code",
   "execution_count": null,
   "metadata": {},
   "outputs": [],
   "source": [
    "path = '/home/parth/repos/decision-diagrams/xadd-inference-jihwan/src/camdp/ex/optimizedTransitions/\\\n",
    "results/reservoir-stoch-action-results-backup/reservoir.cmdp.V_1-000.txt'"
   ]
  },
  {
   "cell_type": "code",
   "execution_count": null,
   "metadata": {},
   "outputs": [],
   "source": [
    "path = '/home/parth/repos/decision-diagrams/xadd-inference-jihwan/src/camdp/ex/optimizedTransitions/\\\n",
    "results/reservoir-stoch-action-results-backup/reservoir.cmdp.V_2-000.txt'"
   ]
  },
  {
   "cell_type": "code",
   "execution_count": null,
   "metadata": {},
   "outputs": [],
   "source": [
    "path = '/home/parth/repos/decision-diagrams/xadd-inference-jihwan/src/camdp/ex/optimizedTransitions/\\\n",
    "results/reservoir-stoch-action-results-backup/reservoir.cmdp.V_3-000.txt'"
   ]
  },
  {
   "cell_type": "code",
   "execution_count": null,
   "metadata": {},
   "outputs": [],
   "source": [
    "path = '/home/parth/repos/decision-diagrams/xadd-inference-jihwan/src/camdp/ex/optimizedTransitions/\\\n",
    "results/reservoir-stoch-action-results-backup/reservoir.cmdp.V_4-000.txt'"
   ]
  },
  {
   "cell_type": "code",
   "execution_count": null,
   "metadata": {},
   "outputs": [],
   "source": [
    "path = '/home/parth/repos/decision-diagrams/xadd-inference-jihwan/src/camdp/ex/optimizedTransitions/\\\n",
    "results/reservoir-stoch-action-results-backup/reservoir.cmdp.V_5-000.txt'"
   ]
  },
  {
   "cell_type": "code",
   "execution_count": null,
   "metadata": {},
   "outputs": [],
   "source": []
  },
  {
   "cell_type": "code",
   "execution_count": null,
   "metadata": {},
   "outputs": [],
   "source": []
  },
  {
   "cell_type": "code",
   "execution_count": null,
   "metadata": {},
   "outputs": [],
   "source": [
    "path = '/home/parth/repos/decision-diagrams/xadd-inference-jihwan/src/camdp/ex/optimizedTransitions/\\\n",
    "results/reservoir.cmdp.V_1-000.txt'"
   ]
  },
  {
   "cell_type": "code",
   "execution_count": null,
   "metadata": {},
   "outputs": [],
   "source": [
    "path = '/home/parth/repos/decision-diagrams/xadd-inference-jihwan/src/camdp/ex/optimizedTransitions/\\\n",
    "results/reservoir.cmdp.V_2-000.txt'"
   ]
  },
  {
   "cell_type": "code",
   "execution_count": null,
   "metadata": {},
   "outputs": [],
   "source": [
    "path = '/home/parth/repos/decision-diagrams/xadd-inference-jihwan/src/camdp/ex/optimizedTransitions/\\\n",
    "results/reservoir.cmdp.V_3-000.txt'"
   ]
  },
  {
   "cell_type": "code",
   "execution_count": null,
   "metadata": {},
   "outputs": [],
   "source": [
    "path = '/home/parth/repos/decision-diagrams/xadd-inference-jihwan/src/camdp/ex/optimizedTransitions/\\\n",
    "results/reservoir.cmdp.V_4-000.txt'"
   ]
  },
  {
   "cell_type": "code",
   "execution_count": null,
   "metadata": {},
   "outputs": [],
   "source": [
    "path = '/home/parth/repos/decision-diagrams/xadd-inference-jihwan/src/camdp/ex/optimizedTransitions/\\\n",
    "results/reservoir.cmdp.V_5-000.txt'"
   ]
  },
  {
   "cell_type": "code",
   "execution_count": null,
   "metadata": {},
   "outputs": [],
   "source": []
  },
  {
   "cell_type": "code",
   "execution_count": null,
   "metadata": {},
   "outputs": [],
   "source": [
    "iter_count = path.split('.cmdp.V_')[1].split('-')[0]\n",
    "title = f'$V^{{{iter_count}}}$'"
   ]
  },
  {
   "cell_type": "code",
   "execution_count": null,
   "metadata": {},
   "outputs": [],
   "source": [
    "df = pd.read_csv(path, sep='\\t', header=None)"
   ]
  },
  {
   "cell_type": "code",
   "execution_count": null,
   "metadata": {},
   "outputs": [],
   "source": [
    "x = df[0]\n",
    "y = df[1]\n",
    "z = df[2]"
   ]
  },
  {
   "cell_type": "code",
   "execution_count": null,
   "metadata": {},
   "outputs": [],
   "source": [
    "x.shape, y.shape, z.shape"
   ]
  },
  {
   "cell_type": "code",
   "execution_count": null,
   "metadata": {},
   "outputs": [],
   "source": [
    "# gs: make tuple data compatible with matplotlib wireframe plot\n",
    "# https://stackoverflow.com/questions/21161884/plotting-a-3d-surface-from-a-list-of-tuples-in-matplotlib"
   ]
  },
  {
   "cell_type": "code",
   "execution_count": null,
   "metadata": {},
   "outputs": [],
   "source": [
    "# gs: plot_wireframe cmap\n",
    "# https://stackoverflow.com/questions/15134004/colored-wireframe-plot-in-matplotlib"
   ]
  },
  {
   "cell_type": "code",
   "execution_count": null,
   "metadata": {},
   "outputs": [],
   "source": [
    "np.mgrid[-1:1:10j]"
   ]
  },
  {
   "cell_type": "code",
   "execution_count": null,
   "metadata": {},
   "outputs": [],
   "source": [
    "X, Y = np.mgrid[min(x):max(x):100j, min(y):max(y):100j]\n",
    "Z = griddata((x, y), z, (X, Y), method='linear')"
   ]
  },
  {
   "cell_type": "code",
   "execution_count": null,
   "metadata": {},
   "outputs": [],
   "source": [
    "X, Y = np.mgrid[min(x):max(x):30j, min(y):max(y):30j]\n",
    "Z = griddata((x, y), z, (X, Y), method='linear')"
   ]
  },
  {
   "cell_type": "code",
   "execution_count": null,
   "metadata": {},
   "outputs": [],
   "source": [
    "# created dec22, for 3d plot to only have ranges within the LP feasible region.\n",
    "# x.min(): 510, x.max(): 3500; therefore x represents l1, while y represents l2.\n",
    "X, Y = np.mgrid[1000:3000:30j, 700:1500:30j]\n",
    "Z = griddata((x, y), z, (X, Y), method='linear')"
   ]
  },
  {
   "cell_type": "code",
   "execution_count": null,
   "metadata": {},
   "outputs": [],
   "source": [
    "X.shape, Y.shape, Z.shape"
   ]
  },
  {
   "cell_type": "code",
   "execution_count": null,
   "metadata": {},
   "outputs": [],
   "source": [
    "fig = plt.figure()\n",
    "ax = fig.gca(projection='3d')\n",
    "# surf = ax.plot_surface(X, Y, Z, rcount=rcount, ccount=ccount, facecolors=colors, shade=False)\n",
    "surf = ax.plot_surface(X, Y, Z, cmap=plt.cm.jet, shade=False)"
   ]
  },
  {
   "cell_type": "code",
   "execution_count": null,
   "metadata": {},
   "outputs": [],
   "source": [
    "fig = plt.figure()\n",
    "ax = fig.gca(projection='3d')\n",
    "# surf = ax.plot_surface(X, Y, Z, rcount=rcount, ccount=ccount, facecolors=colors, shade=False)\n",
    "surf = ax.plot_surface(X, Y, Z, cmap=plt.cm.coolwarm, shade=False)"
   ]
  },
  {
   "cell_type": "code",
   "execution_count": null,
   "metadata": {},
   "outputs": [],
   "source": [
    "norm = plt.Normalize(Z.min(), Z.max())\n",
    "\n",
    "# colors = plt.cm.viridis(norm(Z))\n",
    "# colors = plt.cm.Spectral(norm(Z))\n",
    "# colors = plt.cm.jet(norm(Z))\n",
    "colors = plt.cm.coolwarm(norm(Z))\n",
    "\n",
    "rcount, ccount, _ = colors.shape\n",
    "\n",
    "fig = plt.figure()\n",
    "ax = fig.gca(projection='3d')\n",
    "# surf = ax.plot_surface(X, Y, Z, rcount=rcount, ccount=ccount, facecolors=colors, shade=False)\n",
    "# surf.set_facecolor((0,0,0,0))\n",
    "# surf = ax.plot_surface(X, Y, Z, cmap=plt.cm.jet, shade=False)\n",
    "surf = ax.plot_surface(X, Y, Z, cmap=plt.cm.coolwarm, shade=False)\n",
    "\n",
    "ax.set_xlim([1000,3000])\n",
    "ax.set_ylim([700,1500])\n",
    "\n",
    "\n",
    "# axis titles - reservoir\n",
    "ax.set_xlabel('$L_1$', fontsize=20, labelpad=10)\n",
    "ax.set_ylabel('$L_2$', fontsize=20, labelpad=10)\n",
    "ax.set_zlabel(title, fontsize=20, labelpad=10)\n",
    "\n",
    "# label frequency - reservoir\n",
    "ax.xaxis.set_major_locator(ticker.MultipleLocator(1000))\n",
    "ax.yaxis.set_major_locator(ticker.MultipleLocator(600))\n",
    "ax.zaxis.set_major_locator(ticker.MultipleLocator(600))\n",
    "\n",
    "# axis titles - traffic\n",
    "# ax.set_xlabel('$Q_2$', fontsize=20, labelpad=10)\n",
    "# ax.set_ylabel('$Q_3$', fontsize=20, labelpad=10)\n",
    "# ax.set_zlabel(title, fontsize=20, labelpad=10)\n",
    "\n",
    "# label frequency - traffic\n",
    "# ax.xaxis.set_major_locator(ticker.MultipleLocator(40))\n",
    "# ax.yaxis.set_major_locator(ticker.MultipleLocator(30))\n",
    "# ax.zaxis.set_major_locator(ticker.MultipleLocator(20))\n",
    "\n",
    "# ax.set_xticks(ax.get_xticks()[::2])\n",
    "\n",
    "# ticks size\n",
    "ax.tick_params(axis='both', labelsize=14)\n",
    "\n",
    "plt.show()"
   ]
  },
  {
   "cell_type": "code",
   "execution_count": null,
   "metadata": {},
   "outputs": [],
   "source": []
  },
  {
   "cell_type": "code",
   "execution_count": null,
   "metadata": {},
   "outputs": [],
   "source": []
  },
  {
   "cell_type": "markdown",
   "metadata": {},
   "source": [
    "### time-space complexity plots2 - with approximate sols"
   ]
  },
  {
   "cell_type": "code",
   "execution_count": null,
   "metadata": {},
   "outputs": [],
   "source": [
    "path = Path('../Markov-Decision-Process-Value-Iteration-Policy-Iteration-Visualization/results/')\n",
    "env = 'traffic_iter_space_time'  # traffic, reservoir, bandwidth\n",
    "\n",
    "lst = [p for p in path.iterdir() if env in str(p)]\n",
    "lst[:5]"
   ]
  },
  {
   "cell_type": "code",
   "execution_count": null,
   "metadata": {},
   "outputs": [],
   "source": [
    "def load_specific(string):\n",
    "    for file in path.iterdir():\n",
    "        if string in str(file):\n",
    "            print(file)\n",
    "            with open(file, 'r') as f:\n",
    "                return f.read()"
   ]
  },
  {
   "cell_type": "code",
   "execution_count": null,
   "metadata": {},
   "outputs": [],
   "source": [
    "def getIterSpaceTime(with_str):\n",
    "    return json.loads(load_specific(with_str))"
   ]
  },
  {
   "cell_type": "code",
   "execution_count": null,
   "metadata": {},
   "outputs": [],
   "source": [
    "iter_st = getIterSpaceTime('traffic_iter_space_time')"
   ]
  },
  {
   "cell_type": "code",
   "execution_count": null,
   "metadata": {},
   "outputs": [],
   "source": [
    "TIME = 0\n",
    "MEMORY = 1\n",
    "approx_solution_plots = [4, 12]\n",
    "ls = ['o-', 'o-.', 'o--']"
   ]
  },
  {
   "cell_type": "code",
   "execution_count": null,
   "metadata": {},
   "outputs": [],
   "source": [
    "# things copied from 'time-space complexity plots' section and then approximate solution added to it."
   ]
  },
  {
   "cell_type": "code",
   "execution_count": null,
   "metadata": {},
   "outputs": [],
   "source": [
    "path = '/home/parth/repos/decision-diagrams/xadd-inference-jihwan/src/camdp/ex/optimizedTransitions/results/'\n",
    "file = 'traffic_run_info.cmdp.log'\n",
    "df = pd.read_csv(path + file, sep=\"\\s+|;|:\", header=None, engine='python')\n",
    "df = df[[1, 5, 8, 11]]\n",
    "df.columns = ['iter', 'nodes', 'branches', 'time']\n",
    "\n",
    "df2 = pd.DataFrame({\n",
    "    'iter': [1, 2, 3, 4, 5],\n",
    "    'nodes': [16, 72, 314, 1110, 3420],\n",
    "    'time': [7, 162, 2048, 142951, 14655783]\n",
    "})\n",
    "\n",
    "file2 = 'stochastic_bandopt5.cmdp.log'\n",
    "df3 = pd.read_csv(path + file2, sep=\"\\s+|;|:\", header=None, engine='python')\n",
    "df3 = df3[[1, 5, 8, 11]]\n",
    "df3.columns = ['iter', 'nodes', 'branches', 'time']"
   ]
  },
  {
   "cell_type": "code",
   "execution_count": null,
   "metadata": {},
   "outputs": [],
   "source": [
    "fig, (ax1, ax2) = plt.subplots(2, 1, sharex=True)\n",
    "\n",
    "# FIGURE1 - AXIS1\n",
    "color = 'tab:red'\n",
    "ax1.plot(df.iter, df.nodes, 'o--', linewidth=2, markevery=4, label='Traffic Management', color=color)\n",
    "ax1.plot(df2.iter, df2.nodes, 'o-', linewidth=2, label='Reservoir Management', color=color)\n",
    "ax1.plot(df3.iter, df3.nodes, 'o-.', linewidth=2, markevery=4, label='Bandwidth Optimization', color=color)\n",
    "\n",
    "ax1.set_ylabel('Size of $V^h$ (Nodes)')\n",
    "ax1.set_xlabel('Horizon $(h)$')\n",
    "ax1.tick_params(axis='y', labelcolor=color)\n",
    "\n",
    "ax1.set_xlim([-5,100])\n",
    "ax1.set_ylim([-100,1000])\n",
    "\n",
    "# FIGURE1 - AXIS2\n",
    "color = 'tab:blue'\n",
    "ax1_2 = ax1.twinx()\n",
    "for i, d in enumerate(approx_solution_plots):\n",
    "    ax1_2.plot(iter_st[str(d)][MEMORY], ls[i], linewidth=2, markevery=4, label=f'Discretization: {d}', color=color)\n",
    "ax1_2.set_ylabel('Memory Size (Bytes)')\n",
    "ax1_2.tick_params(axis='y', labelcolor=color)\n",
    "\n",
    "lines, labels = ax1.get_legend_handles_labels()\n",
    "lines2, labels2 = ax1_2.get_legend_handles_labels()\n",
    "ax1.legend(lines + lines2, labels + labels2, loc=0)\n",
    "\n",
    "# FIGURE2\n",
    "color = 'tab:red'\n",
    "ax2.plot(df.iter, df.time, 'o--', linewidth=2, markevery=4, label='Traffic Management', color=color)\n",
    "ax2.plot(df2.iter, df2.time, 'o-', linewidth=2, label='Reservoir Management', color=color)\n",
    "ax2.plot(df3.iter, df3.time, 'o-.', linewidth=2, markevery=4, label='Bandwidth Optimization', color=color)\n",
    "\n",
    "ax2.set_ylabel('Time (ms)')\n",
    "ax2.set_xlabel('Horizon $(h)$')\n",
    "\n",
    "ax2.set_xlim([-5,100])\n",
    "ax2.set_ylim(-1000,22000)\n",
    "\n",
    "color = 'tab:blue'\n",
    "for i, d in enumerate(approx_solution_plots):\n",
    "    ax2.plot(iter_st[str(d)][TIME], ls[i], linewidth=2, markevery=4, label=f'Discretization: {d}', color=color)\n",
    "\n",
    "plt.show()"
   ]
  },
  {
   "cell_type": "markdown",
   "metadata": {},
   "source": [
    "### time-space complexity plots"
   ]
  },
  {
   "cell_type": "code",
   "execution_count": null,
   "metadata": {},
   "outputs": [],
   "source": [
    "%matplotlib qt\n",
    "# %matplotlib inline"
   ]
  },
  {
   "cell_type": "code",
   "execution_count": null,
   "metadata": {},
   "outputs": [],
   "source": [
    "path = '/home/parth/repos/decision-diagrams/xadd-inference-jihwan/src/camdp/ex/optimizedTransitions/results/'"
   ]
  },
  {
   "cell_type": "code",
   "execution_count": null,
   "metadata": {},
   "outputs": [],
   "source": [
    "file = 'traffic_run_info.cmdp.log'"
   ]
  },
  {
   "cell_type": "code",
   "execution_count": null,
   "metadata": {},
   "outputs": [],
   "source": [
    "df = pd.read_csv(path + file, sep=\"\\s+|;|:\", header=None, engine='python')\n",
    "df = df[[1, 5, 8, 11]]\n",
    "df.columns = ['iter', 'nodes', 'branches', 'time']"
   ]
  },
  {
   "cell_type": "code",
   "execution_count": null,
   "metadata": {},
   "outputs": [],
   "source": []
  },
  {
   "cell_type": "code",
   "execution_count": null,
   "metadata": {},
   "outputs": [],
   "source": [
    "# Iter:1 Complete. Took: 7ms, Nodes = 16, Memory = 16336896:530579456 bytes.\n",
    "# Iter:2 Complete. Took: 162 ms, Nodes = 72, Memory = 231716864:645922816 bytes.\n",
    "# Iter:3 Complete. Took: 2048 ms, Nodes = 314, Memory = 273398040:775946240 bytes.\n",
    "# Iter:4 Complete. Took: 142951 ms, Nodes = 1110, Memory = 734678792:2564816896 bytes.\n",
    "# Iter:5 Complete. Took: 14655783 ms, Nodes = 3420, Memory = 3415978672:4519362560 bytes."
   ]
  },
  {
   "cell_type": "code",
   "execution_count": null,
   "metadata": {},
   "outputs": [],
   "source": [
    "df2 = pd.DataFrame({\n",
    "    'iter': [1, 2, 3, 4, 5],\n",
    "    'nodes': [16, 72, 314, 1110, 3420],\n",
    "    'time': [7, 162, 2048, 142951, 14655783]\n",
    "})"
   ]
  },
  {
   "cell_type": "code",
   "execution_count": null,
   "metadata": {},
   "outputs": [],
   "source": []
  },
  {
   "cell_type": "code",
   "execution_count": null,
   "metadata": {},
   "outputs": [],
   "source": [
    "file2 = 'stochastic_bandopt5.cmdp.log'"
   ]
  },
  {
   "cell_type": "code",
   "execution_count": null,
   "metadata": {},
   "outputs": [],
   "source": [
    "df3 = pd.read_csv(path + file2, sep=\"\\s+|;|:\", header=None, engine='python')\n",
    "df3 = df3[[1, 5, 8, 11]]\n",
    "df3.columns = ['iter', 'nodes', 'branches', 'time']"
   ]
  },
  {
   "cell_type": "code",
   "execution_count": null,
   "metadata": {},
   "outputs": [],
   "source": []
  },
  {
   "cell_type": "code",
   "execution_count": null,
   "metadata": {},
   "outputs": [],
   "source": [
    "fig, (ax1, ax2) = plt.subplots(2, 1, sharex=True)\n",
    "\n",
    "ax1.plot(df.iter, df.nodes, 'o--', linewidth=2, markevery=4, label='Traffic Management')\n",
    "ax1.plot(df2.iter, df2.nodes, 'o-', linewidth=2, label='Reservoir Management')\n",
    "ax1.plot(df3.iter, df3.nodes, 'o-.', linewidth=2, markevery=4, label='Bandwidth Optimization')\n",
    "\n",
    "ax1.set_ylabel('Size of $V^h$ (Nodes)')\n",
    "ax1.set_xlabel('Horizon $(h)$')\n",
    "\n",
    "ax1.set_xlim([-5,100])\n",
    "ax1.set_ylim([-100,1000])\n",
    "ax1.legend()\n",
    "\n",
    "\n",
    "ax2.plot(df.iter, df.time, 'o--', linewidth=2, markevery=4, label='Traffic Management')\n",
    "ax2.plot(df2.iter, df2.time, 'o-', linewidth=2, label='Reservoir Management')\n",
    "ax2.plot(df3.iter, df3.time, 'o-.', linewidth=2, markevery=4, label='Bandwidth Optimization')\n",
    "\n",
    "ax2.set_ylabel('Time (ms)')\n",
    "ax2.set_xlabel('Horizon $(h)$')\n",
    "\n",
    "ax2.set_xlim([-5,100])\n",
    "ax2.set_ylim([-1000,8000])\n",
    "# ax2.legend()\n",
    "\n",
    "plt.show()"
   ]
  },
  {
   "cell_type": "code",
   "execution_count": null,
   "metadata": {},
   "outputs": [],
   "source": []
  },
  {
   "cell_type": "code",
   "execution_count": null,
   "metadata": {},
   "outputs": [],
   "source": [
    "plt.cm.Dark2.colors"
   ]
  },
  {
   "cell_type": "code",
   "execution_count": null,
   "metadata": {},
   "outputs": [],
   "source": [
    "fig, (ax1, ax2) = plt.subplots(2, 1, sharex=True)\n",
    "\n",
    "n_plots = 5\n",
    "norm = plt.Normalize(1, n_plots)\n",
    "colors = plt.cm.coolwarm(norm(range(n_plots)))\n",
    "# colors = plt.cm.jet(norm(range(n_plots)))\n",
    "\n",
    "# ax1.plot(df.iter, df.nodes, 'o--', markevery=2, label='Traffic Management', color=colors[1])\n",
    "# ax1.plot(df2.iter, df2.nodes, 'o-', label='Reservoir Management', color=colors[2])\n",
    "# ax1.plot(df3.iter, df3.nodes, 'o-.', markevery=2, label='Bandwidth Optimization', color=colors[3])\n",
    "\n",
    "ax1.plot(df.iter, df.nodes, 'o--', markevery=2, label='Traffic Management', color=plt.cm.Dark2.colors[0])\n",
    "ax1.plot(df2.iter, df2.nodes, 'o-', label='Reservoir Management', color=plt.cm.Dark2.colors[1])\n",
    "ax1.plot(df3.iter, df3.nodes, 'o-.', markevery=2, label='Bandwidth Optimization', color=plt.cm.Dark2.colors[2])\n",
    "\n",
    "ax1.set_ylabel('Size of $V^h$ (Nodes)')\n",
    "ax1.set_xlabel('Horizon $(h)$')\n",
    "\n",
    "ax1.set_xlim([-5,100])\n",
    "# ax1.set_ylim([-100,1000])\n",
    "ax1.legend()\n",
    "\n",
    "\n",
    "ax2.plot(df.iter, df.time, 'o--', markevery=2, label='Traffic Management')\n",
    "ax2.plot(df2.iter, df2.time, 'o-', label='Reservoir Management')\n",
    "ax2.plot(df3.iter, df3.time, 'o-.', markevery=2, label='Bandwidth Optimization')\n",
    "\n",
    "ax2.set_ylabel('Time (ms)')\n",
    "ax2.set_xlabel('Horizon $(h)$')\n",
    "\n",
    "ax2.set_xlim([-5,100])\n",
    "# ax2.set_ylim([-1000,8000])\n",
    "# ax2.legend()\n",
    "\n",
    "plt.show()"
   ]
  },
  {
   "cell_type": "code",
   "execution_count": null,
   "metadata": {},
   "outputs": [],
   "source": [
    "df.time.max(), df2.time.max(), df3.time.max()"
   ]
  },
  {
   "cell_type": "code",
   "execution_count": null,
   "metadata": {},
   "outputs": [],
   "source": []
  },
  {
   "cell_type": "code",
   "execution_count": null,
   "metadata": {},
   "outputs": [],
   "source": []
  },
  {
   "cell_type": "code",
   "execution_count": null,
   "metadata": {},
   "outputs": [],
   "source": []
  },
  {
   "cell_type": "code",
   "execution_count": null,
   "metadata": {},
   "outputs": [],
   "source": [
    "plt.plot(df.iter, df.nodes, 'o-')\n",
    "plt.plot(df2.iter, df2.nodes, 'o-.')\n",
    "\n",
    "ax = plt.gca()\n",
    "\n",
    "ax.set_xlabel('Horizon $(h)$', fontsize=20)\n",
    "ax.set_ylabel('Size of $V^h$ (Nodes)', fontsize=20)"
   ]
  },
  {
   "cell_type": "code",
   "execution_count": null,
   "metadata": {},
   "outputs": [],
   "source": [
    "plt.plot(df.iter, df.time, 'o-')"
   ]
  },
  {
   "cell_type": "code",
   "execution_count": null,
   "metadata": {},
   "outputs": [],
   "source": []
  },
  {
   "cell_type": "code",
   "execution_count": null,
   "metadata": {},
   "outputs": [],
   "source": []
  },
  {
   "cell_type": "code",
   "execution_count": null,
   "metadata": {},
   "outputs": [],
   "source": []
  },
  {
   "cell_type": "code",
   "execution_count": null,
   "metadata": {},
   "outputs": [],
   "source": []
  },
  {
   "cell_type": "code",
   "execution_count": null,
   "metadata": {},
   "outputs": [],
   "source": []
  },
  {
   "cell_type": "code",
   "execution_count": null,
   "metadata": {},
   "outputs": [],
   "source": []
  },
  {
   "cell_type": "code",
   "execution_count": null,
   "metadata": {},
   "outputs": [],
   "source": [
    "# create df from lists. for case of reservoir."
   ]
  },
  {
   "cell_type": "code",
   "execution_count": null,
   "metadata": {},
   "outputs": [],
   "source": [
    "percentile_list = pd.DataFrame(\n",
    "    {'lst1Title': lst1,\n",
    "     'lst2Title': lst2,\n",
    "     'lst3Title': lst3\n",
    "    })"
   ]
  },
  {
   "cell_type": "code",
   "execution_count": null,
   "metadata": {},
   "outputs": [],
   "source": []
  },
  {
   "cell_type": "code",
   "execution_count": null,
   "metadata": {},
   "outputs": [],
   "source": []
  },
  {
   "cell_type": "code",
   "execution_count": null,
   "metadata": {},
   "outputs": [],
   "source": []
  },
  {
   "cell_type": "code",
   "execution_count": null,
   "metadata": {},
   "outputs": [],
   "source": []
  },
  {
   "cell_type": "code",
   "execution_count": null,
   "metadata": {},
   "outputs": [],
   "source": []
  },
  {
   "cell_type": "code",
   "execution_count": null,
   "metadata": {},
   "outputs": [],
   "source": [
    "iter_count = path.split('.cmdp.V_')[1].split('-')[0]\n",
    "title = f'$V^{{{iter_count}}}$'"
   ]
  },
  {
   "cell_type": "code",
   "execution_count": null,
   "metadata": {},
   "outputs": [],
   "source": [
    "df = pd.read_csv(path, sep='\\t', header=None)"
   ]
  },
  {
   "cell_type": "code",
   "execution_count": null,
   "metadata": {},
   "outputs": [],
   "source": [
    "x = df[0]\n",
    "y = df[1]\n",
    "z = df[2]"
   ]
  },
  {
   "cell_type": "code",
   "execution_count": null,
   "metadata": {},
   "outputs": [],
   "source": [
    "# gs: make tuple data compatible with matplotlib wireframe plot\n",
    "# https://stackoverflow.com/questions/21161884/plotting-a-3d-surface-from-a-list-of-tuples-in-matplotlib"
   ]
  },
  {
   "cell_type": "code",
   "execution_count": null,
   "metadata": {},
   "outputs": [],
   "source": [
    "# gs: plot_wireframe cmap\n",
    "# https://stackoverflow.com/questions/15134004/colored-wireframe-plot-in-matplotlib"
   ]
  },
  {
   "cell_type": "code",
   "execution_count": null,
   "metadata": {},
   "outputs": [],
   "source": [
    "X, Y = np.mgrid[min(x):max(x):100j, min(y):max(y):100j]\n",
    "Z = griddata((x, y), z, (X, Y), method='linear')"
   ]
  },
  {
   "cell_type": "code",
   "execution_count": null,
   "metadata": {},
   "outputs": [],
   "source": [
    "X, Y = np.mgrid[min(x):max(x):30j, min(y):max(y):30j]\n",
    "Z = griddata((x, y), z, (X, Y), method='linear')"
   ]
  },
  {
   "cell_type": "code",
   "execution_count": null,
   "metadata": {},
   "outputs": [],
   "source": []
  },
  {
   "cell_type": "code",
   "execution_count": null,
   "metadata": {},
   "outputs": [],
   "source": []
  },
  {
   "cell_type": "code",
   "execution_count": null,
   "metadata": {},
   "outputs": [],
   "source": []
  },
  {
   "cell_type": "code",
   "execution_count": null,
   "metadata": {},
   "outputs": [],
   "source": []
  }
 ],
 "metadata": {
  "kernelspec": {
   "display_name": "Python 3",
   "language": "python",
   "name": "python3"
  },
  "language_info": {
   "codemirror_mode": {
    "name": "ipython",
    "version": 3
   },
   "file_extension": ".py",
   "mimetype": "text/x-python",
   "name": "python",
   "nbconvert_exporter": "python",
   "pygments_lexer": "ipython3",
   "version": "3.6.10"
  }
 },
 "nbformat": 4,
 "nbformat_minor": 4
}
